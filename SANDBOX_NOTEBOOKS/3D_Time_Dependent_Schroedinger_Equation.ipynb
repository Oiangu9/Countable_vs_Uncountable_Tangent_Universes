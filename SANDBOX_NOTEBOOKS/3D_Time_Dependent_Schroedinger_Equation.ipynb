{
 "cells": [
  {
   "cell_type": "code",
   "execution_count": 1,
   "id": "a0bb8612",
   "metadata": {},
   "outputs": [],
   "source": [
    "use_cuda_numpy = False\n",
    "if use_cuda_numpy:\n",
    "    import numpy as np\n",
    "    import matplotlib.pyplot as plt\n",
    "    import cupy as cnp\n",
    "    import cupyx.scipy as csp\n",
    "    import cupyx.scipy.sparse.linalg as clg\n",
    "    from time import time\n",
    "    import os\n",
    "    \n",
    "else:\n",
    "    import numpy as cnp\n",
    "    import numpy as np\n",
    "    import matplotlib.pyplot as plt\n",
    "    import scipy as csp\n",
    "    import scipy.sparse.linalg as clg\n",
    "    from time import time\n",
    "    import os"
   ]
  },
  {
   "cell_type": "markdown",
   "id": "c464fcb6",
   "metadata": {},
   "source": [
    "# 3D Time Dependent Schrödinger Equation"
   ]
  },
  {
   "cell_type": "markdown",
   "id": "9fade58c",
   "metadata": {},
   "source": [
    "### Routines"
   ]
  },
  {
   "cell_type": "code",
   "execution_count": 2,
   "id": "e9bbbad4",
   "metadata": {},
   "outputs": [],
   "source": [
    "#Discretized Hamiltonian as a Sparse Matrix\n",
    "def cuda_get_discrete_U_L(Nx, Ny, Nz, dx, dy, dz, dt, mx, my, mz, hbar):\n",
    "    main_diagonal = 1+1j*dt*0.5*hbar*(1/dx**2/mx+1/dy**2/my+1/dz**2/mz)*cnp.ones(Nx*Ny*Nz, dtype=complex_dtype)\n",
    "    for i in range(Nx):\n",
    "        for j in range(Ny):\n",
    "            for k in range(Nz):\n",
    "                main_diagonal[k*Nx*Ny+j*Nx+i] += 1j*dt*V_ijk[i,j,k]/2/hbar\n",
    "    x_diagonals = -1j*dt*hbar/(4*mx*dx**2)*cnp.ones(Nx*Ny*Nz-1, dtype=complex_dtype)\n",
    "    y_diagonals = -1j*dt*hbar/(4*my*dy**2)*cnp.ones(Nx*Ny*Nz-Nx, dtype=complex_dtype)\n",
    "    z_diagonals = -1j*dt*hbar/(4*mz*dz**2)*cnp.ones(Nx*Ny*Nz-Nx*Ny, dtype=complex_dtype)\n",
    "    # There are some zeros we need to place in these diagonals\n",
    "    for j in range(Ny*Nz-1):\n",
    "        x_diagonals[(j+1)*Nx-1] = 0\n",
    "    for k in range(Nz-1):\n",
    "        y_diagonals[ (k+1)*Nx*Ny-Nx:(k+1)*Nx*Ny ] = 0\n",
    "    \n",
    "    return csp.sparse.diags( diagonals=\n",
    "        (main_diagonal, x_diagonals, x_diagonals,y_diagonals, y_diagonals, z_diagonals, z_diagonals),\n",
    "        offsets=cnp.array([0, 1, -1, Nx, -Nx, Nx*Ny, -Nx*Ny]), dtype=complex_dtype,format='csc')"
   ]
  },
  {
   "cell_type": "markdown",
   "id": "da32eb1a",
   "metadata": {},
   "source": [
    "### Simulation Parameters"
   ]
  },
  {
   "cell_type": "code",
   "execution_count": 3,
   "id": "3f6801fa",
   "metadata": {},
   "outputs": [
    {
     "name": "stdout",
     "output_type": "stream",
     "text": [
      "> Grid Settings:\n",
      "  Using Nx=40 Ny=40 Nz=40 grid points.\n",
      "  Using dx=0.4103 dy=0.4103 dz=0.4615 increments (atomic units)\n",
      "\n"
     ]
    }
   ],
   "source": [
    "# name for output directories\n",
    "exp_name = \"3D_test_2\"\n",
    "\n",
    "# Complex number precision\n",
    "complex_dtype = cnp.csingle # 64 bit #cnp.cdouble # 128 bit\n",
    "real_dtype = cnp.single # 32 bit # cnp.double # 64 bit\n",
    "\n",
    "# hbar, masses\n",
    "hbar = 1\n",
    "ms = [1,1,1]\n",
    "\n",
    "# Time increment\n",
    "dt = 0.01\n",
    "\n",
    "# Number of time iterations\n",
    "numIts = 600\n",
    "\n",
    "# Number of points to be used per dimension\n",
    "Ns = [40]*3 # (Nx, Ny, Nz)\n",
    "Nx,Ny,Nz = Ns\n",
    " \n",
    "# Output every\n",
    "outputEvery = 24\n",
    "\n",
    "# Number of Bohmian Trajectories to Sample and Evolve\n",
    "numTrajs = 1000\n",
    "\n",
    "# Dimensionality of the particles in the 3D configuration space\n",
    "numDofPartic = 3 # aka a single 3D particle\n",
    "numDofUniv = 3\n",
    "\n",
    "\n",
    "# Time grid\n",
    "ts = np.array([dt*j for j in range(numIts)])\n",
    "\n",
    "# Intervals for calculating the wave function\n",
    "xlowers = [-8,-8,-7]\n",
    "xuppers = [8,8,11]\n",
    "\n",
    "# Increments to be used per dimension\n",
    "dxs = [(xuppers[j]-xlowers[j])/(Ns[j]-1) for j in range(3)] # (dx, dy, dz)\n",
    "dx,dy,dz = dxs\n",
    "\n",
    "#Create coordinates at which the solution will be calculated\n",
    "nodes = [cnp.linspace(xlowers[j], xuppers[j], Ns[j]) for j in range(3)] # (xs, ys, zs)\n",
    "xs,ys,zs = nodes\n",
    "\n",
    "print(\"> Grid Settings:\")\n",
    "print(f\"  Using Nx={Ns[0]} Ny={Ns[1]} Nz={Ns[2]} grid points.\")\n",
    "print(f\"  Using dx={dxs[0]:.4} dy={dxs[1]:.4} dz={dxs[2]:.4} increments (atomic units)\\n\")"
   ]
  },
  {
   "cell_type": "markdown",
   "id": "df9a886d",
   "metadata": {},
   "source": [
    "Save the Simulation Parameters"
   ]
  },
  {
   "cell_type": "code",
   "execution_count": 4,
   "id": "ffc0370f",
   "metadata": {},
   "outputs": [],
   "source": [
    "# Save the Simulation Parameters\n",
    "os.makedirs(f\"./OUTPUTS/TISE_3D/{exp_name}/\", exist_ok=True)\n",
    "with open(f\"./OUTPUTS/TISE_3D/{exp_name}/Settings.txt\", \"w\") as f:\n",
    "    f.write(f\"numIts {numIts}\\ndt {dt}\\noutputEvery {outputEvery}\\nNs {Ns}\\nxlowers {xlowers}\\nxuppers {xuppers}\\n\")\n",
    "    f.write(f\"numDofUniv {numDofUniv}\\nnumDofPartic {numDofPartic}\\n\")\n",
    "    f.write(f\"numTrajs {numTrajs}\\nhbar {hbar}\\nms {ms}\\nreal_dtype {real_dtype}\\ncomplex_dtype {complex_dtype}\\n\")\n",
    "    try:\n",
    "        f.write(f\"K_coulomb {K_coulomb} \\nqs {qs}\\n\")\n",
    "    except:\n",
    "        f.write(f\"K_coulomb {1} \\nqs {[1,1,1]}\\n\")        "
   ]
  },
  {
   "cell_type": "markdown",
   "id": "381e5462",
   "metadata": {},
   "source": [
    "### Scenario"
   ]
  },
  {
   "cell_type": "code",
   "execution_count": 5,
   "id": "3591402f",
   "metadata": {},
   "outputs": [],
   "source": [
    "def harmonic(grid):\n",
    "    return np.sum(grid**2, -1)\n",
    "\n",
    "def spherical_slits_3D(grid,Vmax=20, Rshell=2, wshell=0.2,\n",
    "            k_super=6, th1=17*np.pi/180, th2=40*np.pi/180, wslit=8*np.pi/180):\n",
    "    Rs = np.sqrt(np.sum(grid**2, -1))\n",
    "    Rs = np.where(Rs==0, 1e-4, Rs)\n",
    "    thetas = cnp.arccos(grid[:,:,:,2]/Rs)\n",
    "    return cnp.where(thetas<cnp.pi/2, \n",
    "            Vmax*cnp.exp(-cnp.abs((Rs-Rshell)/wshell)**k_super)*\\\n",
    "                (1-cnp.exp(-cnp.abs((thetas-th1)/wslit)**k_super)-\\\n",
    "                    cnp.exp(-cnp.abs((thetas-th2)/wslit)**k_super)), 0)\n",
    "\n",
    "def torous_3D(grid, R=2):\n",
    "    return grid[:,:,:,2]**2+(cnp.sqrt(grid[:,:,:,0]**2+grid[:,:,:,1]**2)-R)**2"
   ]
  },
  {
   "cell_type": "code",
   "execution_count": 6,
   "id": "bdc99893",
   "metadata": {},
   "outputs": [],
   "source": [
    "K_coulomb=1\n",
    "qs = [-1,-1,-1]\n",
    "\n",
    "# Initial Wavefunction\n",
    "def psi0_gaussian(grid, mus, sigmas, ps, hbar):\n",
    "    # grid is [Nx,Ny, 2]\n",
    "    return np.prod(1/(sigmas*np.sqrt(2*np.pi))**0.5*cnp.exp(-(grid-mus)**2/(4*sigmas**2))*cnp.exp(1j*(ps*grid)/hbar), axis=-1, dtype=complex_dtype)\n",
    "\n",
    "def psi0_2gaussians(x,y,z, mus1, mus2, sigmas1, sigmas2, ps1, ps2, hbar):\n",
    "    return np.prod(1/(sigmas1*np.sqrt(2*np.pi))**0.5*cnp.exp(-(grid-mus1)**2/(4*sigmas1**2))*cnp.exp(1j*(ps1*grid)/hbar), \n",
    "                   axis=-1, dtype=complex_dtype)+\\\n",
    "            np.prod(1/(sigmas2*np.sqrt(2*np.pi))**0.5*cnp.exp(-(grid-mus2)**2/(4*sigmas2**2))*cnp.exp(1j*(ps2*grid)/hbar), \n",
    "                    axis=-1, dtype=complex_dtype)\n",
    "\n",
    "mus = cnp.array([0,0,4.5])\n",
    "sigmas = cnp.array([1,1,0.7])\n",
    "ps = cnp.array([0,0,-2.5])\n",
    "\n",
    "# parameters for gaussian\n",
    "mus1 = cnp.array([0,3,3])\n",
    "sigmas1 = cnp.array([1,1,1])\n",
    "u = cnp.array([0,-3,-1.5])\n",
    "ps1 = 2*u/cnp.linalg.norm(u)\n",
    "\n",
    "mus2 = cnp.array([0,-3,-3])\n",
    "sigmas2 = cnp.array([1,1,1])\n",
    "ps2 = -2*u/np.linalg.norm(u)\n",
    "# choose the potential and the wavefunction\n",
    "chosenV=spherical_slits_3D\n",
    "\n",
    "grid=cnp.moveaxis(cnp.array(np.meshgrid(*nodes)).swapaxes(1,2),0,-1) #[Nx,Ny,Nz,3]\n",
    "V_ijk = chosenV(grid)\n",
    "\n",
    "psi0 = lambda grid: psi0_gaussian(grid, mus=mus, sigmas=sigmas, ps=ps, hbar=hbar)\n",
    "#psi0 = lambda grid: psi0_2gaussians(grid, mus1=mus1, sigmas1=sigmas1, \n",
    "#               ps1=ps1, hbar=hbar,  mus2=mus2, sigmas2=sigmas2, ps2=ps2 )"
   ]
  },
  {
   "cell_type": "markdown",
   "id": "31fb02de",
   "metadata": {},
   "source": [
    "### Simulation\n",
    "Prepare Arrays"
   ]
  },
  {
   "cell_type": "code",
   "execution_count": 7,
   "id": "1b4111b7",
   "metadata": {},
   "outputs": [],
   "source": [
    "psi = psi0(grid).flatten('F')"
   ]
  },
  {
   "cell_type": "code",
   "execution_count": 8,
   "id": "2829c137",
   "metadata": {},
   "outputs": [],
   "source": [
    "# initialize Bohmian trajectories\n",
    "# first get the pdf\n",
    "#psi0 = cnp.asnumpy(psi)\n",
    "pdf0 = (psi.conj()*psi).real\n",
    "pdf0 = pdf0/pdf0.sum() # normalize strictly\n",
    "\n",
    "# sample randomly\n",
    "initial_trajs_idx = cnp.random.choice( pdf0.shape[0], \n",
    "            replace=True, size=(numTrajs), p=pdf0 ) #[numTrajs] indices\n",
    "# need to convert them to positions\n",
    "k_s = initial_trajs_idx//(Nx*Ny)\n",
    "rest = initial_trajs_idx%(Nx*Ny)\n",
    "j_s = rest//Nx\n",
    "i_s = rest%Nx\n",
    "\n",
    "# avoiding edges - probability density is zero there\n",
    "i_s[i_s==0] = 1\n",
    "i_s[i_s==Ns[0]-1] = Ns[0]-2\n",
    "j_s[j_s==0] = 1\n",
    "j_s[j_s==Ns[1]-1] = Ns[1]-2\n",
    "k_s[k_s==0] = 1\n",
    "k_s[k_s==Ns[2]-1] = Ns[2]-2\n",
    "\n",
    "trajs = cnp.zeros((numTrajs, 6), dtype=real_dtype) #[numTrajs, 6=3posit+3momtum]\n",
    "for tr, (i, j, k) in enumerate(zip(i_s,j_s,k_s)):\n",
    "    trajs[tr, 0] = nodes[0][i]\n",
    "    trajs[tr, 1] = nodes[1][j]\n",
    "    trajs[tr, 2] = nodes[2][k]\n",
    "    \n",
    "cdxs = cnp.array(dxs)[cnp.newaxis,:]\n",
    "cNs = cnp.array(Ns)[cnp.newaxis, :]\n",
    "cxlowers = cnp.array(xlowers)[cnp.newaxis, :]\n",
    "cxuppers = cnp.array(xuppers)[cnp.newaxis, :]\n",
    "cms = cnp.array(ms)[cnp.newaxis, :]"
   ]
  },
  {
   "cell_type": "markdown",
   "id": "49814851",
   "metadata": {},
   "source": [
    "Plot the potential energy profile and initial trajs"
   ]
  },
  {
   "cell_type": "code",
   "execution_count": 9,
   "id": "41b0b88f",
   "metadata": {},
   "outputs": [],
   "source": [
    "#%matplotlib inline"
   ]
  },
  {
   "cell_type": "code",
   "execution_count": 10,
   "id": "e797d5e2",
   "metadata": {},
   "outputs": [
    {
     "data": {
      "image/png": "[encoded data removed]",
      "text/plain": [
       "<Figure size 360x360 with 2 Axes>"
      ]
     },
     "metadata": {
      "needs_background": "light"
     },
     "output_type": "display_data"
    }
   ],
   "source": [
    "if use_cuda_numpy:\n",
    "    V_ijk=cnp.asnumpy(V_ijk)\n",
    "    trajs_numpy = cnp.asnumpy(trajs)\n",
    "    grid = cnp.asnumpy(grid)\n",
    "else:\n",
    "    trajs_numpy = trajs\n",
    "fig = plt.figure(figsize=(5,5))\n",
    "ax = fig.add_subplot(111, projection='3d')\n",
    "maxim = V_ijk.max()\n",
    "minim = V_ijk.min()\n",
    "zati=3\n",
    "level_surface = grid[ V_ijk>maxim/zati, :]\n",
    "colormap = ax.scatter3D(level_surface[:,0], level_surface[:,1], level_surface[:,2],\n",
    "                    c=V_ijk[V_ijk>maxim/zati],\n",
    "        cmap='hot_r', s=2, alpha=V_ijk[V_ijk>maxim/zati]/maxim ) #, antialiased=True)\n",
    "ax.set_xlim((xlowers[0], xuppers[1]))\n",
    "ax.set_ylim((xlowers[1], xuppers[1]))\n",
    "ax.set_zlim((xlowers[2], xuppers[2]))\n",
    "\n",
    "fig.colorbar(colormap, fraction=0.04, location='left')\n",
    "ax.set_xlabel(\"x\")\n",
    "ax.set_ylabel(\"y\")\n",
    "ax.set_zlabel(\"z\")\n",
    "ax.set_title(f\"Potential energy>{maxim/3:.3}\")\n",
    "ax.view_init(elev=-30, azim=30)\n",
    "ax.scatter(trajs_numpy[:,0], trajs_numpy[:,1], trajs_numpy[:,2], c=\"black\", s=3,\n",
    "            alpha=1)\n",
    "os.makedirs(f\"./OUTPUTS/TISE_3D/{exp_name}/figs/\", exist_ok=True)\n",
    "image=f\"./OUTPUTS/TISE_3D/{exp_name}/figs/energy_potential.png\"\n",
    "plt.savefig(image, dpi=150)\n",
    "plt.show()"
   ]
  },
  {
   "cell_type": "code",
   "execution_count": 11,
   "id": "e7c7c6ef",
   "metadata": {},
   "outputs": [],
   "source": [
    "U_L = cuda_get_discrete_U_L(*Ns, *dxs, dt, *ms, hbar)\n",
    "U_R = U_L.conj()\n",
    "UL_LUdec = clg.splu( U_L )"
   ]
  },
  {
   "cell_type": "markdown",
   "id": "232d3356",
   "metadata": {},
   "source": [
    "Create Directories"
   ]
  },
  {
   "cell_type": "code",
   "execution_count": 12,
   "id": "935ca8c0",
   "metadata": {},
   "outputs": [],
   "source": [
    "os.makedirs(f\"./OUTPUTS/TISE_3D/{exp_name}/pdf/\", exist_ok=True)\n",
    "os.makedirs(f\"./OUTPUTS/TISE_3D/{exp_name}/trajs/\", exist_ok=True)\n",
    "os.makedirs(f\"./OUTPUTS/TISE_3D/{exp_name}/moms/\", exist_ok=True)"
   ]
  },
  {
   "cell_type": "markdown",
   "id": "d529064c",
   "metadata": {},
   "source": [
    "Run Iterations"
   ]
  },
  {
   "cell_type": "code",
   "execution_count": 14,
   "id": "05aefdd8",
   "metadata": {
    "scrolled": true
   },
   "outputs": [
    {
     "name": "stderr",
     "output_type": "stream",
     "text": [
      "/tmp/ipykernel_39154/1306615159.py:42: RuntimeWarning: overflow encountered in true_divide\n",
      "  p[:,:,:,0] = hbar*(dpsi_dx/psi_tensor).imag\n",
      "/tmp/ipykernel_39154/1306615159.py:42: RuntimeWarning: invalid value encountered in true_divide\n",
      "  p[:,:,:,0] = hbar*(dpsi_dx/psi_tensor).imag\n",
      "/tmp/ipykernel_39154/1306615159.py:43: RuntimeWarning: overflow encountered in true_divide\n",
      "  p[:,:,:,1] = hbar*(dpsi_dy/psi_tensor).imag\n",
      "/tmp/ipykernel_39154/1306615159.py:43: RuntimeWarning: invalid value encountered in true_divide\n",
      "  p[:,:,:,1] = hbar*(dpsi_dy/psi_tensor).imag\n",
      "/tmp/ipykernel_39154/1306615159.py:44: RuntimeWarning: overflow encountered in true_divide\n",
      "  p[:,:,:,2] = hbar*(dpsi_dz/psi_tensor).imag\n"
     ]
    },
    {
     "name": "stdout",
     "output_type": "stream",
     "text": [
      "\n",
      " > It 0/600\n",
      "   Iteration 0 Approx.Norm = 1.0\n",
      "\n",
      " > It 24/600\n",
      "   Iteration 24 Approx.Norm = 1.0\n",
      "\n",
      " > It 48/600\n",
      "   Iteration 48 Approx.Norm = 1.0\n",
      "\n",
      " > It 72/600\n",
      "   Iteration 72 Approx.Norm = 1.0\n",
      "\n",
      " > It 96/600\n",
      "   Iteration 96 Approx.Norm = 1.0\n",
      "\n",
      " > It 120/600\n",
      "   Iteration 120 Approx.Norm = 1.0\n",
      "\n",
      " > It 144/600\n",
      "   Iteration 144 Approx.Norm = 1.0\n",
      "\n",
      " > It 168/600\n",
      "   Iteration 168 Approx.Norm = 1.0\n",
      "\n",
      " > It 192/600\n",
      "   Iteration 192 Approx.Norm = 1.0\n",
      "\n",
      " > It 216/600\n",
      "   Iteration 216 Approx.Norm = 1.0\n",
      "\n",
      " > It 240/600\n",
      "   Iteration 240 Approx.Norm = 1.0\n",
      "\n",
      " > It 264/600\n",
      "   Iteration 264 Approx.Norm = 1.0\n",
      "\n",
      " > It 288/600\n",
      "   Iteration 288 Approx.Norm = 1.0\n",
      "\n",
      " > It 312/600\n",
      "   Iteration 312 Approx.Norm = 1.0\n",
      "\n",
      " > It 336/600\n",
      "   Iteration 336 Approx.Norm = 1.0\n"
     ]
    },
    {
     "ename": "KeyboardInterrupt",
     "evalue": "",
     "output_type": "error",
     "traceback": [
      "\u001b[0;31m---------------------------------------------------------------------------\u001b[0m",
      "\u001b[0;31mKeyboardInterrupt\u001b[0m                         Traceback (most recent call last)",
      "Input \u001b[0;32mIn [14]\u001b[0m, in \u001b[0;36m<cell line: 6>\u001b[0;34m()\u001b[0m\n\u001b[1;32m     91\u001b[0m \u001b[38;5;66;03m# Those trajectories that get out of bounds should bounce back by the amount they got out\u001b[39;00m\n\u001b[1;32m     92\u001b[0m \u001b[38;5;28;01mwhile\u001b[39;00m(cnp\u001b[38;5;241m.\u001b[39many(trajs[:,:numDofUniv]\u001b[38;5;241m>\u001b[39m\u001b[38;5;241m=\u001b[39mcxuppers) \u001b[38;5;129;01mor\u001b[39;00m cnp\u001b[38;5;241m.\u001b[39many(trajs[:,:numDofUniv]\u001b[38;5;241m<\u001b[39m\u001b[38;5;241m=\u001b[39mcxlowers)):\n\u001b[0;32m---> 93\u001b[0m     trajs[:,:\u001b[38;5;241m3\u001b[39m] \u001b[38;5;241m=\u001b[39m cnp\u001b[38;5;241m.\u001b[39mwhere( trajs[:,:\u001b[38;5;241m3\u001b[39m]\u001b[38;5;241m>\u001b[39mcxuppers, cxuppers\u001b[38;5;241m-\u001b[39m(\u001b[43mtrajs\u001b[49m\u001b[43m[\u001b[49m\u001b[43m:\u001b[49m\u001b[43m,\u001b[49m\u001b[43m:\u001b[49m\u001b[38;5;241;43m3\u001b[39;49m\u001b[43m]\u001b[49m\u001b[38;5;241;43m-\u001b[39;49m\u001b[43mcxuppers\u001b[49m) ,trajs[:,:\u001b[38;5;241m3\u001b[39m] )\n\u001b[1;32m     94\u001b[0m     trajs[:,:\u001b[38;5;241m3\u001b[39m] \u001b[38;5;241m=\u001b[39m cnp\u001b[38;5;241m.\u001b[39mwhere( trajs[:,:\u001b[38;5;241m3\u001b[39m]\u001b[38;5;241m<\u001b[39mcxlowers, cxlowers\u001b[38;5;241m+\u001b[39m(cxlowers\u001b[38;5;241m-\u001b[39mtrajs[:,:\u001b[38;5;241m3\u001b[39m]) ,trajs[:,:\u001b[38;5;241m3\u001b[39m] )   \n\u001b[1;32m     96\u001b[0m \u001b[38;5;66;03m# NEXT PSI ####################################################\u001b[39;00m\n\u001b[1;32m     97\u001b[0m \u001b[38;5;66;03m# compute the next time iteration's wavefunction\u001b[39;00m\n",
      "\u001b[0;31mKeyboardInterrupt\u001b[0m: "
     ]
    }
   ],
   "source": [
    "dpsi_dx = cnp.zeros(Ns, dtype=complex_dtype)\n",
    "dpsi_dy = cnp.zeros(Ns, dtype=complex_dtype)\n",
    "dpsi_dz = cnp.zeros(Ns, dtype=complex_dtype)\n",
    "p = cnp.zeros(dpsi_dx.shape+(3, ), dtype=real_dtype) #[3, Nx, Ny, Nz]\n",
    "\n",
    "for it, t in enumerate(ts):\n",
    "    psi_tensor = psi.reshape(Ns[::-1]).swapaxes(0,-1) #[Nx,Ny,Nz]\n",
    "    \n",
    "    # BOHMIAN MOMENTUM FIELD #####################################\n",
    "    # first the gradient of the wavefunction at each point\n",
    "    # X\n",
    "    # boundaries with simple Euler formula O(dx)\n",
    "    dpsi_dx[0, :, :] = (psi_tensor[1, :, :]-psi_tensor[0, :, :])/dx\n",
    "    dpsi_dx[-1, :, :] = (psi_tensor[-1, :, :]-psi_tensor[-2, :, :])/dx\n",
    "    # next boundaries with centered difference O(dx**2)\n",
    "    dpsi_dx[1,:,:] = (psi_tensor[2,:,:]-psi_tensor[0,:,:])/(2*dx)\n",
    "    dpsi_dx[-2,:,:] = (psi_tensor[-1,:,:]-psi_tensor[-3,:,:])/(2*dx)\n",
    "    # rest with O(dx**4) centered difference\n",
    "    dpsi_dx[2:-2,:,:] = (-psi_tensor[4:,:,:]+8*psi_tensor[3:-1,:,:]-8*psi_tensor[1:-3,:,:]+psi_tensor[:-4,:,:])/(12*dx)\n",
    "\n",
    "    # DY\n",
    "    # boundaries with simple Euler formula O(dx)\n",
    "    dpsi_dy[:, 0, :] = (psi_tensor[:,1, :]-psi_tensor[:,0, :])/dy\n",
    "    dpsi_dy[:,-1, :] = (psi_tensor[:,-1, :]-psi_tensor[:,-2, :])/dy\n",
    "    # next boundaries with centered difference O(dx**2)\n",
    "    dpsi_dy[:,1,:] = (psi_tensor[:,2,:]-psi_tensor[:,0,:])/(2*dy)\n",
    "    dpsi_dy[:,-2,:] = (psi_tensor[:,-1,:]-psi_tensor[:,-3,:])/(2*dy)\n",
    "    # rest with O(dx**4) centered difference\n",
    "    dpsi_dy[:,2:-2,:] = (-psi_tensor[:,4:,:]+8*psi_tensor[:,3:-1,:]-8*psi_tensor[:,1:-3,:]+psi_tensor[:,:-4,:])/(12*dy)\n",
    "\n",
    "    # DZ\n",
    "    # boundaries with simple Euler formula O(dx)\n",
    "    dpsi_dz[:,:,0] = (psi_tensor[:,:,1]-psi_tensor[:,:,0])/dz\n",
    "    dpsi_dz[:,:,-1] = (psi_tensor[:,:,-1]-psi_tensor[:,:,-2])/dz\n",
    "    # next boundaries with centered difference O(dx**2)\n",
    "    dpsi_dz[:,:,1] = (psi_tensor[:,:,2]-psi_tensor[:,:,0])/(2*dz)\n",
    "    dpsi_dz[:,:,-2] = (psi_tensor[:,:,-1]-psi_tensor[:,:,-3])/(2*dz)\n",
    "    # rest with O(dx**4) centered difference\n",
    "    dpsi_dz[:,:,2:-2] = (-psi_tensor[:,:,4:]+8*psi_tensor[:,:,3:-1]-8*psi_tensor[:,:,1:-3]+psi_tensor[:,:,:-4])/(12*dz)\n",
    "\n",
    "    # px, py, pz\n",
    "    p[:,:,:,0] = hbar*(dpsi_dx/psi_tensor).imag\n",
    "    p[:,:,:,1] = hbar*(dpsi_dy/psi_tensor).imag\n",
    "    p[:,:,:,2] = hbar*(dpsi_dz/psi_tensor).imag      \n",
    "\n",
    "    # TRAJ MOMENTA ##################################################\n",
    "    # if no trajectory surpasses below the node 0 or J-1 at any time, \n",
    "    # traj will always be among (0,J-1) and traj//dxs will be among [0,J-1]\n",
    "    trajs_idxs = (((trajs[:,:3]-cxlowers)//cdxs).T).astype(cnp.uint) # [3, numTrajs] the closest index from below along each axis\n",
    "    # relative distance to the closest index from below point along each dimension\n",
    "    # the closer, the bigger its weight should be for the trajectory propagation\n",
    "    ratx_down = ((trajs[:,0]-xs[ trajs_idxs[0] ])/(xs[ trajs_idxs[0]+1 ]-xs[ trajs_idxs[0] ]))[:,np.newaxis]\n",
    "    raty_down = ((trajs[:,1]-ys[ trajs_idxs[1] ])/(ys[ trajs_idxs[1]+1 ]-ys[ trajs_idxs[1] ]))[:,np.newaxis]\n",
    "    ratz_down = ((trajs[:,2]-zs[ trajs_idxs[2] ])/(zs[ trajs_idxs[2]+1 ]-zs[ trajs_idxs[2] ]))[:,np.newaxis]\n",
    "    # Get the interpolated momenta\n",
    "    trajs[:, 3:] = ratx_down*raty_down*ratz_down* p[ trajs_idxs[0]+1, trajs_idxs[1]+1, trajs_idxs[2]+1 ] +\\\n",
    "        (1-ratx_down)*raty_down*ratz_down* p[ trajs_idxs[0], trajs_idxs[1]+1, trajs_idxs[2]+1 ] +\\\n",
    "        ratx_down*(1-raty_down)*ratz_down* p[ trajs_idxs[0]+1, trajs_idxs[1], trajs_idxs[2]+1 ] +\\\n",
    "        ratx_down*raty_down*(1-ratz_down)* p[ trajs_idxs[0]+1, trajs_idxs[1]+1, trajs_idxs[2] ] +\\\n",
    "        (1-ratx_down)*(1-raty_down)*ratz_down* p[ trajs_idxs[0], trajs_idxs[1], trajs_idxs[2]+1 ] +\\\n",
    "        ratx_down*(1-raty_down)*(1-ratz_down)* p[ trajs_idxs[0]+1, trajs_idxs[1], trajs_idxs[2] ] +\\\n",
    "        (1-ratx_down)*raty_down*(1-ratz_down)* p[ trajs_idxs[0], trajs_idxs[1]+1, trajs_idxs[2] ] +\\\n",
    "        (1-ratx_down)*(1-raty_down)*(1-ratz_down)* p[ trajs_idxs[0], trajs_idxs[1], trajs_idxs[2] ]\n",
    "    \n",
    "    # OUTPUT #####################################################\n",
    "    if it%outputEvery == 0:\n",
    "        print(f\"\\n > It {it}/{numIts}\")\n",
    "        # compute the magnitude squared of the wavefunction\n",
    "        pdf = (psi_tensor.conj()*psi_tensor).real\n",
    "        # Approximate the norm\n",
    "        print(f\"   Iteration {it} Approx.Norm = {pdf.sum()*dx*dy*dz:.4}\")\n",
    "        if use_cuda_numpy:\n",
    "            pdf = cnp.asnumpy(pdf)\n",
    "            trajs_numpy = cnp.asnumpy(trajs)\n",
    "            p_numpy = cnp.asnumpy(p)\n",
    "        else:\n",
    "            trajs_numpy = trajs\n",
    "            p_numpy = p\n",
    "        \n",
    "        np.save(f\"./OUTPUTS/TISE_3D/{exp_name}/pdf/pdf_it_{it}_numIts_{numIts}_dt_{dt:.3}.npy\",\n",
    "                pdf, allow_pickle=True) #[Nx,Ny,Nz]\n",
    "        np.save(f\"./OUTPUTS/TISE_3D/{exp_name}/trajs/trajs_it_{it}_numIts_{numIts}_dt_{dt:.3}.npy\",\n",
    "                trajs_numpy, allow_pickle=True) #[numTrajs, 6]\n",
    "        np.save(f\"./OUTPUTS/TISE_3D/{exp_name}/moms/momentum_field_it_{it}_numIts_{numIts}_dt_{dt:.3}.npy\",\n",
    "                p_numpy, allow_pickle=True) #[Nx,Ny,Nz, 6]\n",
    "        \n",
    "        \n",
    "    # Evolve trajectories using the interpolated velocity field\n",
    "    trajs[:, :3] = trajs[:,:3] + dt*trajs[:,3:]/cms #[numTrajs, 3]\n",
    "    \n",
    "    # Those trajectories that get out of bounds should bounce back by the amount they got out\n",
    "    while(cnp.any(trajs[:,:numDofUniv]>=cxuppers) or cnp.any(trajs[:,:numDofUniv]<=cxlowers)):\n",
    "        trajs[:,:3] = cnp.where( trajs[:,:3]>cxuppers, cxuppers-(trajs[:,:3]-cxuppers) ,trajs[:,:3] )\n",
    "        trajs[:,:3] = cnp.where( trajs[:,:3]<cxlowers, cxlowers+(cxlowers-trajs[:,:3]) ,trajs[:,:3] )   \n",
    "    \n",
    "    # NEXT PSI ####################################################\n",
    "    # compute the next time iteration's wavefunction\n",
    "    U_Rpsi_prev = U_R@psi # this is the vector b in Ax=b\n",
    "    psi = UL_LUdec.solve(U_Rpsi_prev)"
   ]
  },
  {
   "cell_type": "markdown",
   "id": "678114e3",
   "metadata": {},
   "source": [
    "Free stuff"
   ]
  },
  {
   "cell_type": "code",
   "execution_count": 15,
   "id": "1802f7b0",
   "metadata": {},
   "outputs": [],
   "source": [
    "if use_cuda_numpy:\n",
    "    cnp.get_default_memory_pool().free_all_blocks()\n",
    "    cnp.get_default_pinned_memory_pool().free_all_blocks()"
   ]
  },
  {
   "cell_type": "markdown",
   "id": "0956360f",
   "metadata": {},
   "source": [
    "### Animation Generation"
   ]
  },
  {
   "cell_type": "code",
   "execution_count": 16,
   "id": "b3d3536c",
   "metadata": {},
   "outputs": [],
   "source": [
    "if use_cuda_numpy:\n",
    "    nodes = [cnp.asnumpy(nodel) for nodel in nodes]\n",
    "    xs,ys,zs = nodes"
   ]
  },
  {
   "cell_type": "markdown",
   "id": "0a7b1296",
   "metadata": {},
   "source": [
    "Generate png"
   ]
  },
  {
   "cell_type": "code",
   "execution_count": 17,
   "id": "322278de",
   "metadata": {
    "scrolled": true
   },
   "outputs": [
    {
     "name": "stdout",
     "output_type": "stream",
     "text": [
      "Using a mesh in the plot of (3, 40, 40, 40)\n",
      "\n",
      " > It 0/600\n",
      "\n",
      " > It 24/600\n",
      "\n",
      " > It 48/600\n",
      "\n",
      " > It 72/600\n",
      "\n",
      " > It 96/600\n",
      "\n",
      " > It 120/600\n",
      "\n",
      " > It 144/600\n",
      "\n",
      " > It 168/600\n",
      "\n",
      " > It 192/600\n",
      "\n",
      " > It 216/600\n",
      "\n",
      " > It 240/600\n",
      "\n",
      " > It 264/600\n",
      "\n",
      " > It 288/600\n",
      "\n",
      " > It 312/600\n",
      "\n",
      " > It 336/600\n",
      "\n",
      " > It 360/600\n",
      "\n",
      " > It 384/600\n",
      "\n",
      " > It 408/600\n"
     ]
    },
    {
     "ename": "FileNotFoundError",
     "evalue": "[Errno 2] No such file or directory: './OUTPUTS/TISE_3D/3D_test_2/pdf/pdf_it_408_numIts_600_dt_0.01.npy'",
     "output_type": "error",
     "traceback": [
      "\u001b[0;31m---------------------------------------------------------------------------\u001b[0m",
      "\u001b[0;31mFileNotFoundError\u001b[0m                         Traceback (most recent call last)",
      "Input \u001b[0;32mIn [17]\u001b[0m, in \u001b[0;36m<cell line: 12>\u001b[0;34m()\u001b[0m\n\u001b[1;32m     14\u001b[0m \u001b[38;5;28mprint\u001b[39m(\u001b[38;5;124mf\u001b[39m\u001b[38;5;124m\"\u001b[39m\u001b[38;5;130;01m\\n\u001b[39;00m\u001b[38;5;124m > It \u001b[39m\u001b[38;5;132;01m{\u001b[39;00mit\u001b[38;5;132;01m}\u001b[39;00m\u001b[38;5;124m/\u001b[39m\u001b[38;5;132;01m{\u001b[39;00mnumIts\u001b[38;5;132;01m}\u001b[39;00m\u001b[38;5;124m\"\u001b[39m)\n\u001b[1;32m     15\u001b[0m fig\u001b[38;5;241m.\u001b[39mclf()\n\u001b[0;32m---> 16\u001b[0m pdf \u001b[38;5;241m=\u001b[39m \u001b[43mnp\u001b[49m\u001b[38;5;241;43m.\u001b[39;49m\u001b[43mload\u001b[49m\u001b[43m(\u001b[49m\u001b[38;5;124;43mf\u001b[39;49m\u001b[38;5;124;43m\"\u001b[39;49m\u001b[38;5;124;43m./OUTPUTS/TISE_3D/\u001b[39;49m\u001b[38;5;132;43;01m{\u001b[39;49;00m\u001b[43mexp_name\u001b[49m\u001b[38;5;132;43;01m}\u001b[39;49;00m\u001b[38;5;124;43m/pdf/pdf_it_\u001b[39;49m\u001b[38;5;132;43;01m{\u001b[39;49;00m\u001b[43mit\u001b[49m\u001b[38;5;132;43;01m}\u001b[39;49;00m\u001b[38;5;124;43m_numIts_\u001b[39;49m\u001b[38;5;132;43;01m{\u001b[39;49;00m\u001b[43mnumIts\u001b[49m\u001b[38;5;132;43;01m}\u001b[39;49;00m\u001b[38;5;124;43m_dt_\u001b[39;49m\u001b[38;5;132;43;01m{\u001b[39;49;00m\u001b[43mdt\u001b[49m\u001b[38;5;132;43;01m:\u001b[39;49;00m\u001b[38;5;124;43m.3\u001b[39;49m\u001b[38;5;132;43;01m}\u001b[39;49;00m\u001b[38;5;124;43m.npy\u001b[39;49m\u001b[38;5;124;43m\"\u001b[39;49m\u001b[43m)\u001b[49m\n\u001b[1;32m     17\u001b[0m trajs \u001b[38;5;241m=\u001b[39m np\u001b[38;5;241m.\u001b[39mload(\u001b[38;5;124mf\u001b[39m\u001b[38;5;124m\"\u001b[39m\u001b[38;5;124m./OUTPUTS/TISE_3D/\u001b[39m\u001b[38;5;132;01m{\u001b[39;00mexp_name\u001b[38;5;132;01m}\u001b[39;00m\u001b[38;5;124m/trajs/trajs_it_\u001b[39m\u001b[38;5;132;01m{\u001b[39;00mit\u001b[38;5;132;01m}\u001b[39;00m\u001b[38;5;124m_numIts_\u001b[39m\u001b[38;5;132;01m{\u001b[39;00mnumIts\u001b[38;5;132;01m}\u001b[39;00m\u001b[38;5;124m_dt_\u001b[39m\u001b[38;5;132;01m{\u001b[39;00mdt\u001b[38;5;132;01m:\u001b[39;00m\u001b[38;5;124m.3\u001b[39m\u001b[38;5;132;01m}\u001b[39;00m\u001b[38;5;124m.npy\u001b[39m\u001b[38;5;124m\"\u001b[39m)\n\u001b[1;32m     19\u001b[0m ax \u001b[38;5;241m=\u001b[39m fig\u001b[38;5;241m.\u001b[39madd_subplot(\u001b[38;5;241m131\u001b[39m, projection\u001b[38;5;241m=\u001b[39m\u001b[38;5;124m'\u001b[39m\u001b[38;5;124m3d\u001b[39m\u001b[38;5;124m'\u001b[39m)\n",
      "File \u001b[0;32m~/anaconda3/lib/python3.8/site-packages/numpy/lib/npyio.py:407\u001b[0m, in \u001b[0;36mload\u001b[0;34m(file, mmap_mode, allow_pickle, fix_imports, encoding)\u001b[0m\n\u001b[1;32m    405\u001b[0m     own_fid \u001b[38;5;241m=\u001b[39m \u001b[38;5;28;01mFalse\u001b[39;00m\n\u001b[1;32m    406\u001b[0m \u001b[38;5;28;01melse\u001b[39;00m:\n\u001b[0;32m--> 407\u001b[0m     fid \u001b[38;5;241m=\u001b[39m stack\u001b[38;5;241m.\u001b[39menter_context(\u001b[38;5;28;43mopen\u001b[39;49m\u001b[43m(\u001b[49m\u001b[43mos_fspath\u001b[49m\u001b[43m(\u001b[49m\u001b[43mfile\u001b[49m\u001b[43m)\u001b[49m\u001b[43m,\u001b[49m\u001b[43m \u001b[49m\u001b[38;5;124;43m\"\u001b[39;49m\u001b[38;5;124;43mrb\u001b[39;49m\u001b[38;5;124;43m\"\u001b[39;49m\u001b[43m)\u001b[49m)\n\u001b[1;32m    408\u001b[0m     own_fid \u001b[38;5;241m=\u001b[39m \u001b[38;5;28;01mTrue\u001b[39;00m\n\u001b[1;32m    410\u001b[0m \u001b[38;5;66;03m# Code to distinguish from NumPy binary files and pickles.\u001b[39;00m\n",
      "\u001b[0;31mFileNotFoundError\u001b[0m: [Errno 2] No such file or directory: './OUTPUTS/TISE_3D/3D_test_2/pdf/pdf_it_408_numIts_600_dt_0.01.npy'"
     ]
    },
    {
     "data": {
      "text/plain": [
       "<Figure size 1512x504 with 0 Axes>"
      ]
     },
     "metadata": {},
     "output_type": "display_data"
    }
   ],
   "source": [
    "os.makedirs(f\"./OUTPUTS/TISE_3D/{exp_name}/figs/\", exist_ok=True)\n",
    "image_paths = []\n",
    "dpi = 100\n",
    "\n",
    "every=1 # Only take one data point every this number in each axis to plot\n",
    "grid=np.array(np.meshgrid(*nodes)).swapaxes(1,2)[:,::every, ::every, ::every] #[3,Nx,Ny,Nz]\n",
    "print(f\"Using a mesh in the plot of {grid.shape}\")\n",
    "fig = plt.figure( figsize=(21,7))\n",
    "\n",
    "plt.style.use('dark_background')\n",
    "\n",
    "for it, t in enumerate(ts):\n",
    "    if it%outputEvery==0:\n",
    "        print(f\"\\n > It {it}/{numIts}\")\n",
    "        fig.clf()\n",
    "        pdf = np.load(f\"./OUTPUTS/TISE_3D/{exp_name}/pdf/pdf_it_{it}_numIts_{numIts}_dt_{dt:.3}.npy\")\n",
    "        trajs = np.load(f\"./OUTPUTS/TISE_3D/{exp_name}/trajs/trajs_it_{it}_numIts_{numIts}_dt_{dt:.3}.npy\")\n",
    "        \n",
    "        ax = fig.add_subplot(131, projection='3d')\n",
    "        # PDF TRANSP ############################################################\n",
    "        maxim = pdf.max()\n",
    "        minim = pdf.min()\n",
    "        level_surface = grid[:, pdf>maxim/3]\n",
    "        colormap = ax.scatter(*level_surface, c=pdf[pdf>maxim/3],\n",
    "                cmap='hot_r', s=2, alpha=pdf[pdf>maxim/3]/maxim ) #, antialiased=True)\n",
    "        ax.set_xlim((xlowers[0], xuppers[1]))\n",
    "        ax.set_ylim((xlowers[1], xuppers[1]))\n",
    "        ax.set_zlim((xlowers[2], xuppers[2]))\n",
    "        ax.view_init(elev=-30, azim=30)\n",
    "\n",
    "        fig.colorbar(colormap, fraction=0.04, location='left')\n",
    "        ax.set_xlabel(\"x\")\n",
    "        ax.set_ylabel(\"y\")\n",
    "        ax.set_zlabel(\"z\")\n",
    "        ax.set_title(f\"Probability Density>{maxim/3:.3}\\n it={it} t={t:.4}\")\n",
    "        \n",
    "        # PDF SURFACE LEVELS #####################################################\n",
    "        ax = fig.add_subplot(132, projection='3d')\n",
    "        level_surface = grid[:,pdf>maxim/3]\n",
    "        ax.set_zlim(xlowers[-1], xuppers[-1])\n",
    "        for k,z in enumerate(zs):\n",
    "            cset = ax.contour(grid[0,:,:,0], grid[1,:,:,0], pdf[:,:,k], \n",
    "                        7, zdir='z', offset=z, cmap='hot_r', vmin=minim, vmax=maxim,\n",
    "                             alpha=pdf[:,:,k].max()/maxim)\n",
    "        ax.set_title(f\"Probability Density\\n it={it} t={t:.4}\")\n",
    "        ax.set_xlabel(\"x\")\n",
    "        ax.set_ylabel(\"y\")\n",
    "        ax.set_zlabel(\"z\")\n",
    "        fig.colorbar(colormap, fraction=0.04, location='bottom', ax=ax)\n",
    "        ax.view_init(elev=-30, azim=30)\n",
    "\n",
    "        # PDF + TRAJECTORIES ##############################################\n",
    "        ax = fig.add_subplot(133, projection='3d')\n",
    "        #colormap = ax.scatter3D(*grid, c=pdf[ ::every, ::every, ::every],\n",
    "        #               cmap='hot_r', s=0.1, alpha=0.4 ) #, antialiased=True)\n",
    "        cset = ax.contour(grid[0,:,:,0], grid[1,:,:,0], pdf.sum(axis=2), 7, zdir='z', offset=xlowers[2], cmap='hot_r')\n",
    "        cset = ax.contour(grid[0,:,0,:], pdf.sum(axis=1), grid[2,:,0,:], 7, zdir='y', offset=xuppers[1], cmap='hot_r')\n",
    "        cset = ax.contour(pdf.sum(axis=0), grid[1,0,:,:], grid[2,0,:,:], 7, zdir='x', offset=xlowers[0], cmap='hot_r')\n",
    "        #fig.colorbar(cset, fraction=0.04, location='left')\n",
    "        ax.set_xlabel(\"x\")\n",
    "        ax.set_ylabel(\"y\")\n",
    "        ax.set_zlabel(\"z\")\n",
    "        ax.set_title(f\"Trajectories and Projected Probability Density Contours\\n it={it} t={t:.4}\")\n",
    "        ax.scatter(trajs[:,0], trajs[:,1], trajs[:,2], c=\"white\", s=3,\n",
    "                    alpha=1)\n",
    "        ax.view_init(elev=-30, azim=30)\n",
    "\n",
    "        image=f\"./OUTPUTS/TISE_3D/{exp_name}/figs/it_{it}.png\"\n",
    "        plt.savefig(image, dpi=dpi)\n",
    "        image_paths.append(image)\n",
    "        \n"
   ]
  },
  {
   "cell_type": "markdown",
   "id": "cc7b6628",
   "metadata": {},
   "source": [
    "Generate gif"
   ]
  },
  {
   "cell_type": "code",
   "execution_count": null,
   "id": "c083717f",
   "metadata": {},
   "outputs": [],
   "source": [
    "import imageio\n",
    "fps=7\n",
    "images_for_animation = [ imageio.v2.imread(image_path) for image_path in image_paths]\n",
    "imageio.mimsave(f'./OUTPUTS/TISE_3D/{exp_name}/CN_TISE_{exp_name}.gif', images_for_animation, duration=fps**-1*len(images_for_animation))"
   ]
  },
  {
   "cell_type": "markdown",
   "id": "e066a9e9",
   "metadata": {},
   "source": [
    "Erase png"
   ]
  },
  {
   "cell_type": "code",
   "execution_count": null,
   "id": "3e41c792",
   "metadata": {},
   "outputs": [],
   "source": [
    "#for image_path in image_paths:\n",
    "#    os.remove(image_path)"
   ]
  },
  {
   "cell_type": "code",
   "execution_count": null,
   "id": "d13efa56",
   "metadata": {},
   "outputs": [],
   "source": [
    "import numpy as np\n",
    "import matplotlib.pyplot as plt\n",
    "r = np.linspace(1e-5, 3, 200)\n",
    "a1 = 1/r \n",
    "a2 = 1/r**2\n",
    "a3 = 1/r**3\n",
    "plt.plot(r, a1, label=\"1/r\")\n",
    "plt.plot(r, a2, label=\"1/r**2\")\n",
    "plt.plot(r, a3, label=\"1/r**3\")\n",
    "plt.yscale('log')\n",
    "plt.legend()\n",
    "plt.show()"
   ]
  },
  {
   "cell_type": "code",
   "execution_count": null,
   "id": "d4ca8c76",
   "metadata": {},
   "outputs": [],
   "source": [
    "a=np.array([[['j0k0i0', 'j0k1i0', 'j0k2i0'], ['j1k0i0', 'j1k1i0', 'j1k2i0'],['j2j0i0', 'j2k1i0', 'j2k2i0']], [['j0k0i1', 'j0k1i1', 'j0k2i1'], ['j1k0i1', 'j1k1i1', 'j1k2i1'],['j2k0i1', 'j2k1i1', 'j2k2i1']]])\n",
    "a.flatten('F')"
   ]
  }
 ],
 "metadata": {
  "kernelspec": {
   "display_name": "Python 3 (ipykernel)",
   "language": "python",
   "name": "python3"
  },
  "language_info": {
   "codemirror_mode": {
    "name": "ipython",
    "version": 3
   },
   "file_extension": ".py",
   "mimetype": "text/x-python",
   "name": "python",
   "nbconvert_exporter": "python",
   "pygments_lexer": "ipython3",
   "version": "3.8.8"
  }
 },
 "nbformat": 4,
 "nbformat_minor": 5
}
