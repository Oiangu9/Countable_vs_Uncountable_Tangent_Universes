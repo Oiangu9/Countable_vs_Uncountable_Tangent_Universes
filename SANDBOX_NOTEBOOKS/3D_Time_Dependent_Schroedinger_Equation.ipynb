{
 "cells": [
  {
   "cell_type": "code",
   "execution_count": 1,
   "id": "a0bb8612",
   "metadata": {},
   "outputs": [],
   "source": [
    "use_cuda_numpy = False\n",
    "if use_cuda_numpy:\n",
    "    import numpy as np\n",
    "    import matplotlib.pyplot as plt\n",
    "    import cupy as cnp\n",
    "    import cupyx.scipy as csp\n",
    "    import cupyx.scipy.linalg as clg\n",
    "    from time import time\n",
    "    import os\n",
    "    \n",
    "else:\n",
    "    import numpy as cnp\n",
    "    import numpy as np\n",
    "    import matplotlib.pyplot as plt\n",
    "    import scipy as csp\n",
    "    import scipy.sparse.linalg as clg\n",
    "    from time import time\n",
    "    import os"
   ]
  },
  {
   "cell_type": "markdown",
   "id": "c464fcb6",
   "metadata": {},
   "source": [
    "# 3D Time Dependent Schrödinger Equation"
   ]
  },
  {
   "cell_type": "markdown",
   "id": "9fade58c",
   "metadata": {},
   "source": [
    "### Routines"
   ]
  },
  {
   "cell_type": "code",
   "execution_count": 2,
   "id": "e9bbbad4",
   "metadata": {},
   "outputs": [],
   "source": [
    "#Discretized Hamiltonian as a Sparse Matrix\n",
    "def cuda_get_discrete_U_L(Nx, Ny, Nz, dx, dy, dz, xs, ys, zs, dt, mx, my, mz, hbar):\n",
    "    main_diagonal = 1+1j*dt*0.5*hbar*(1/dx**2/mx+1/dy**2/my+1/dz**2/mz)*cnp.ones(Nx*Ny*Nz, dtype=complex_dtype)\n",
    "    for i in range(Nx):\n",
    "        for j in range(Ny):\n",
    "            for k in range(Nz):\n",
    "                main_diagonal[k*Nx*Ny+j*Nx+i] += 1j*dt*V(xs[i], ys[j], zs[k])/2/hbar\n",
    "    x_diagonals = -1j*dt*hbar/(4*mx*dx**2)*cnp.ones(Nx*Ny*Nz-1, dtype=complex_dtype)\n",
    "    y_diagonals = -1j*dt*hbar/(4*my*dy**2)*cnp.ones(Nx*Ny*Nz-Nx, dtype=complex_dtype)\n",
    "    z_diagonals = -1j*dt*hbar/(4*mz*dz**2)*cnp.ones(Nx*Ny*Nz-Nx*Ny, dtype=complex_dtype)\n",
    "    # There are some zeros we need to place in these diagonals\n",
    "    for j in range(Ny*Nz-1):\n",
    "        x_diagonals[(j+1)*Nx-1] = 0\n",
    "    for k in range(Nz-1):\n",
    "        y_diagonals[ (k+1)*Nx*Ny-Nx:(k+1)*Nx*Ny ] = 0\n",
    "    \n",
    "    return csp.sparse.diags( diagonals=\n",
    "        (main_diagonal, x_diagonals, x_diagonals,y_diagonals, y_diagonals, z_diagonals, z_diagonals),\n",
    "        offsets=cnp.array([0, 1, -1, Nx, -Nx, Nx*Ny, -Nx*Ny]), dtype=complex_dtype,format='csc')"
   ]
  },
  {
   "cell_type": "markdown",
   "id": "da32eb1a",
   "metadata": {},
   "source": [
    "### Simulation Parameters"
   ]
  },
  {
   "cell_type": "code",
   "execution_count": 3,
   "id": "3f6801fa",
   "metadata": {},
   "outputs": [
    {
     "name": "stdout",
     "output_type": "stream",
     "text": [
      "> Grid Settings:\n",
      "  Using Nx=50 Ny=50 Nz=50 grid points.\n",
      "  Using dx=0.2245 dy=0.2245 dz=0.2245 increments (atomic units)\n",
      "\n"
     ]
    }
   ],
   "source": [
    "# name for output directories\n",
    "exp_name = \"3D_test_2\"\n",
    "\n",
    "# Complex number precision\n",
    "complex_dtype = cnp.csingle # 64 bit #cnp.cdouble # 128 bit\n",
    "real_dtype = cnp.single # 32 bit # cnp.double # 64 bit\n",
    "\n",
    "# hbar, masses\n",
    "hbar = 1\n",
    "ms = [1,1,1]\n",
    "\n",
    "# Time increment\n",
    "dt = 0.01\n",
    "\n",
    "# Number of time iterations\n",
    "numIts = 300\n",
    "\n",
    "# Number of points to be used per dimension\n",
    "Ns = [50,50,50] # (Nx, Ny, Nz)\n",
    "Nx,Ny,Nz = Ns\n",
    " \n",
    "# Output every\n",
    "outputEvery = 10\n",
    "\n",
    "# Number of Bohmian Trajectories to Sample and Evolve\n",
    "numTrajs = 200\n",
    "\n",
    "# Dimensionality of the particles in the 3D configuration space\n",
    "numDofPartic = 3 # aka a single 3D particle\n",
    "numDofUniv = 3\n",
    "\n",
    "\n",
    "# Time grid\n",
    "ts = np.array([dt*j for j in range(numIts)])\n",
    "\n",
    "# Intervals for calculating the wave function\n",
    "xlowers = [-5.5,-5.5,-5.5]\n",
    "xuppers = [5.5,5.5,5.5]\n",
    "\n",
    "# Increments to be used per dimension\n",
    "dxs = [(xuppers[j]-xlowers[j])/(Ns[j]-1) for j in range(3)] # (dx, dy, dz)\n",
    "dx,dy,dz = dxs\n",
    "\n",
    "#Create coordinates at which the solution will be calculated\n",
    "nodes = [np.linspace(xlowers[j], xuppers[j], Ns[j]) for j in range(3)] # (xs, ys, zs)\n",
    "xs,ys,zs = nodes\n",
    "\n",
    "print(\"> Grid Settings:\")\n",
    "print(f\"  Using Nx={Ns[0]} Ny={Ns[1]} Nz={Ns[2]} grid points.\")\n",
    "print(f\"  Using dx={dxs[0]:.4} dy={dxs[1]:.4} dz={dxs[2]:.4} increments (atomic units)\\n\")"
   ]
  },
  {
   "cell_type": "markdown",
   "id": "df9a886d",
   "metadata": {},
   "source": [
    "Save the Simulation Parameters"
   ]
  },
  {
   "cell_type": "code",
   "execution_count": 4,
   "id": "ffc0370f",
   "metadata": {},
   "outputs": [],
   "source": [
    "# Save the Simulation Parameters\n",
    "os.makedirs(f\"./OUTPUTS/TISE_3D/{exp_name}/\", exist_ok=True)\n",
    "with open(f\"./OUTPUTS/TISE_3D/{exp_name}/Settings.txt\", \"w\") as f:\n",
    "    f.write(f\"numIts {numIts}\\ndt {dt}\\noutputEvery {outputEvery}\\nNs {Ns}\\nxlowers {xlowers}\\nxuppers {xuppers}\\n\")\n",
    "    f.write(f\"numDofUniv {numDofUniv}\\nnumDofPartic {numDofPartic}\\n\")\n",
    "    f.write(f\"numTrajs {numTrajs}\\nhbar {hbar}\\nms {ms}\\nreal_dtype {real_dtype}\\ncomplex_dtype {complex_dtype}\\n\")\n",
    "    try:\n",
    "        f.write(f\"K_coulomb {K_coulomb} \\nqs {qs}\\n\")\n",
    "    except:\n",
    "        f.write(f\"K_coulomb {1} \\nqs {[1,1,1]}\\n\")        "
   ]
  },
  {
   "cell_type": "markdown",
   "id": "381e5462",
   "metadata": {},
   "source": [
    "### Scenario"
   ]
  },
  {
   "cell_type": "code",
   "execution_count": 5,
   "id": "3591402f",
   "metadata": {},
   "outputs": [],
   "source": [
    "def harmonic(grid):\n",
    "    return np.sum(grid**2, -1)\n",
    "\n",
    "def spherical_slits_3D(grid,Vmax=100, Rshell=2, wshell=0.5,\n",
    "            k_super=8, th1=10*np.pi/180, th2=30*np.pi/180, wslit=7*np.pi/180):\n",
    "    Rs = np.sqrt(np.sum(grid**2, -1))\n",
    "    Rs = np.where(Rs==0, 1e-4, Rs)\n",
    "    thetas = cnp.arccos(grid[:,:,:,2]/Rs)\n",
    "    return cnp.where(thetas<cnp.pi/2, \n",
    "            Vmax*cnp.exp(-cnp.abs((Rs-Rshell)/wshell)**k_super)*\\\n",
    "                (1-cnp.exp(-cnp.abs((thetas-th1)/wslit)**k_super)-\\\n",
    "                    cnp.exp(-cnp.abs((thetas-th2)/wslit)**k_super)), 0)\n",
    "\n",
    "def torous_3D(grid, R=2):\n",
    "    return grid[:,:,:,2]**2+(cnp.sqrt(grid[:,:,:,0]**2+grid[:,:,:,1]**2)-R)**2"
   ]
  },
  {
   "cell_type": "code",
   "execution_count": 7,
   "id": "bdc99893",
   "metadata": {},
   "outputs": [],
   "source": [
    "K_coulomb=1\n",
    "qs = [-1,-1,-1]\n",
    "\n",
    "# Initial Wavefunction\n",
    "def psi0_gaussian(x,y,z, mus, sigmas, ps, hbar):\n",
    "    return 1/(sigmas[0]*cnp.sqrt(2*cnp.pi))**0.5*cnp.exp(-(x-mus[0])**2/(4*sigmas[0]**2))*\\\n",
    "            1/(sigmas[1]*cnp.sqrt(2*cnp.pi))**0.5*cnp.exp(-(y-mus[1])**2/(4*sigmas[1]**2))*\\\n",
    "             1/(sigmas[2]*cnp.sqrt(2*cnp.pi))**0.5*cnp.exp(-(z-mus[2])**2/(4*sigmas[2]**2))*\\\n",
    "                cnp.exp(1j*(ps[0]*x+ps[1]*y+ps[2]*z)/hbar)\n",
    "\n",
    "def psi0_2gaussians(x,y,z, mus1, mus2, sigmas1, sigmas2, ps1, ps2, hbar):\n",
    "    return 1/(sigmas1[0]*cnp.sqrt(2*cnp.pi))**0.5*cnp.exp(-(x-mus1[0])**2/(4*sigmas1[0]**2))*\\\n",
    "            1/(sigmas1[1]*cnp.sqrt(2*cnp.pi))**0.5*cnp.exp(-(y-mus1[1])**2/(4*sigmas1[1]**2))*\\\n",
    "             1/(sigmas1[2]*cnp.sqrt(2*cnp.pi))**0.5*cnp.exp(-(z-mus1[2])**2/(4*sigmas1[2]**2))*\\\n",
    "                cnp.exp(1j*(ps1[0]*x+ps1[1]*y+ps1[2]*z)/hbar)+\\\n",
    "            1/(sigmas2[0]*cnp.sqrt(2*cnp.pi))**0.5*cnp.exp(-(x-mus2[0])**2/(4*sigmas2[0]**2))*\\\n",
    "               1/(sigmas2[1]*cnp.sqrt(2*cnp.pi))**0.5*cnp.exp(-(y-mus2[1])**2/(4*sigmas2[1]**2))*\\\n",
    "                 1/(sigmas2[2]*cnp.sqrt(2*cnp.pi))**0.5*cnp.exp(-(z-mus2[2])**2/(4*sigmas2[2]**2))*\\\n",
    "                    cnp.exp(1j*(ps2[0]*x+ps2[1]*y+ps2[2]*z)/hbar)\n",
    "\n",
    "# parameters for gaussian\n",
    "mus1 = [0,3,3]\n",
    "sigmas1 = [1,1,1]\n",
    "u = np.array([0,-3,-1.5])\n",
    "ps1 = 2*u/np.linalg.norm(u)\n",
    "\n",
    "mus2 = [0,-3,-3]\n",
    "sigmas2 = [1,1,1]\n",
    "ps2 = -2*u/np.linalg.norm(u)\n",
    "# choose the potential and the wavefunction\n",
    "chosenV=spherical_slits_3D\n",
    "\n",
    "V = lambda x,y,z: chosenV(np.array([[[[x,y,z]]]]))\n",
    "#psi0 = lambda x,y,z: psi0_gaussian(x,y,z, mus=mus, sigmas=sigmas, ps=ps, hbar=hbar)\n",
    "psi0 = lambda x,y,z: psi0_2gaussians(x,y,z, mus1=mus1, sigmas1=sigmas1, \n",
    "                        ps1=ps1, hbar=hbar,  mus2=mus2, sigmas2=sigmas2, ps2=ps2 )"
   ]
  },
  {
   "cell_type": "markdown",
   "id": "28a15b80",
   "metadata": {},
   "source": [
    "Plot the potential energy profile"
   ]
  },
  {
   "cell_type": "code",
   "execution_count": 8,
   "id": "a8aa0a22",
   "metadata": {},
   "outputs": [
    {
     "data": {
      "image/png": "[encoded data removed]",
      "text/plain": [
       "<Figure size 500x500 with 2 Axes>"
      ]
     },
     "metadata": {},
     "output_type": "display_data"
    }
   ],
   "source": [
    "every=1 # Only take one data point every this number in each axis to plot potential\n",
    "grid=np.array(np.meshgrid(*nodes)).swapaxes(1,2)[:,::every, ::every, ::every] #[3,Nx,Ny,Nz]\n",
    "potential_field = chosenV(np.moveaxis(grid, 0, -1))\n",
    "\n",
    "fig = plt.figure(figsize=(5,5))\n",
    "ax = fig.add_subplot(111, projection='3d')\n",
    "maxim = potential_field.max()\n",
    "minim = potential_field.min()\n",
    "zati=3\n",
    "level_surface = grid[:, potential_field>maxim/zati]\n",
    "colormap = ax.scatter(*level_surface, c=potential_field[potential_field>maxim/zati],\n",
    "        cmap='hot_r', s=2, alpha=potential_field[potential_field>maxim/zati]/maxim ) #, antialiased=True)\n",
    "ax.set_xlim((xlowers[0], xuppers[1]))\n",
    "ax.set_ylim((xlowers[1], xuppers[1]))\n",
    "ax.set_zlim((xlowers[2], xuppers[2]))\n",
    "\n",
    "fig.colorbar(colormap, fraction=0.04, location='left')\n",
    "ax.set_xlabel(\"x\")\n",
    "ax.set_ylabel(\"y\")\n",
    "ax.set_zlabel(\"z\")\n",
    "ax.set_title(f\"Potential energy>{maxim/3:.3}\")\n",
    "ax.view_init(elev=30, azim=30)\n",
    "\n",
    "os.makedirs(f\"./OUTPUTS/TISE_3D/{exp_name}/figs/\", exist_ok=True)\n",
    "image=f\"./OUTPUTS/TISE_3D/{exp_name}/figs/energy_potential.png\"\n",
    "plt.savefig(image, dpi=150)\n",
    "plt.show()"
   ]
  },
  {
   "cell_type": "markdown",
   "id": "31fb02de",
   "metadata": {},
   "source": [
    "### Simulation\n",
    "Prepare Arrays"
   ]
  },
  {
   "cell_type": "code",
   "execution_count": 13,
   "id": "1b4111b7",
   "metadata": {},
   "outputs": [],
   "source": [
    "psi = cnp.zeros(Nx*Ny*Nz, dtype=complex_dtype)\n",
    "\n",
    "for i in range(Nx):\n",
    "    for j in range(Ny):\n",
    "        for k in range(Nz):\n",
    "            psi[k*Nx*Ny+j*Nx+i] = psi0(nodes[0][i], nodes[1][j], nodes[2][k])"
   ]
  },
  {
   "cell_type": "code",
   "execution_count": null,
   "id": "51c830dc",
   "metadata": {},
   "outputs": [],
   "source": [
    "U_L = cuda_get_discrete_U_L(*Ns, *dxs, *nodes, dt, *ms, hbar)\n",
    "U_R = U_L.conj()\n",
    "UL_LUdec = clg.splu( U_L )"
   ]
  },
  {
   "cell_type": "code",
   "execution_count": null,
   "id": "2829c137",
   "metadata": {},
   "outputs": [],
   "source": [
    "# initialize Bohmian trajectories\n",
    "# first get the pdf\n",
    "#psi0 = cnp.asnumpy(psi)\n",
    "pdf0 = (psi.conj()*psi).real\n",
    "pdf0 = pdf0/pdf0.sum() # normalize strictly\n",
    "\n",
    "# sample randomly\n",
    "initial_trajs_idx = np.random.choice( pdf0.shape[0], \n",
    "            replace=True, size=(numTrajs), p=pdf0 ) #[numTrajs] indices\n",
    "# need to convert them to positions\n",
    "k_s = initial_trajs_idx//(Nx*Ny)\n",
    "rest = initial_trajs_idx%(Nx*Ny)\n",
    "j_s = rest//Nx\n",
    "i_s = rest%Nx\n",
    "\n",
    "# avoiding edges - probability density is zero there\n",
    "i_s[i_s==0] = 1\n",
    "i_s[i_s==Ns[0]-1] = Ns[0]-2\n",
    "j_s[j_s==0] = 1\n",
    "j_s[j_s==Ns[1]-1] = Ns[1]-2\n",
    "k_s[k_s==0] = 1\n",
    "k_s[k_s==Ns[2]-1] = Ns[2]-2\n",
    "\n",
    "trajs = cnp.zeros((numTrajs, 6)) #[numTrajs, 6=3posit+3momtum]\n",
    "for tr, (i, j, k) in enumerate(zip(i_s,j_s,k_s)):\n",
    "    trajs[tr, :3] = [nodes[0][i], nodes[1][j], nodes[2][k]]\n",
    "    \n",
    "dxs = cnp.array(dxs)[cnp.newaxis,:]\n",
    "Ns = cnp.array(Ns)[cnp.newaxis, :]\n",
    "xlowers = cnp.array(xlowers)[cnp.newaxis, :]\n",
    "xuppers = cnp.array(xuppers)[cnp.newaxis, :]\n",
    "ms = cnp.array(ms)[cnp.newaxis, :]"
   ]
  },
  {
   "cell_type": "markdown",
   "id": "232d3356",
   "metadata": {},
   "source": [
    "Create Directories"
   ]
  },
  {
   "cell_type": "code",
   "execution_count": null,
   "id": "935ca8c0",
   "metadata": {},
   "outputs": [],
   "source": [
    "os.makedirs(f\"./OUTPUTS/TISE_3D/{exp_name}/pdf/\", exist_ok=True)\n",
    "os.makedirs(f\"./OUTPUTS/TISE_3D/{exp_name}/trajs/\", exist_ok=True)\n",
    "os.makedirs(f\"./OUTPUTS/TISE_3D/{exp_name}/moms/\", exist_ok=True)"
   ]
  },
  {
   "cell_type": "markdown",
   "id": "d529064c",
   "metadata": {},
   "source": [
    "Run Iterations"
   ]
  },
  {
   "cell_type": "code",
   "execution_count": null,
   "id": "05aefdd8",
   "metadata": {},
   "outputs": [],
   "source": [
    "dpsi_dx = cnp.zeros(Ns[0], dtype=complex_dtype)\n",
    "dpsi_dy = cnp.zeros(Ns[0], dtype=complex_dtype)\n",
    "dpsi_dz = cnp.zeros(Ns[0], dtype=complex_dtype)\n",
    "p = cnp.zeros(dpsi_dx.shape+(3, ), dtype=real_dtype) #[3, Nx, Ny, Nz]\n",
    "\n",
    "for it, t in enumerate(ts):\n",
    "    psi_tensor = psi.reshape(Ns[0,::-1]).swapaxes(0,-1) #[Nx,Ny,Nz]\n",
    "    \n",
    "    # BOHMIAN MOMENTUM FIELD #####################################\n",
    "    # first the gradient of the wavefunction at each point\n",
    "    # X\n",
    "    # boundaries with simple Euler formula O(dx)\n",
    "    dpsi_dx[0, :, :] = (psi_tensor[1, :, :]-psi_tensor[0, :, :])/dx\n",
    "    dpsi_dx[-1, :, :] = (psi_tensor[-1, :, :]-psi_tensor[-2, :, :])/dx\n",
    "    # next boundaries with centered difference O(dx**2)\n",
    "    dpsi_dx[1,:,:] = (psi_tensor[2,:,:]-psi_tensor[0,:,:])/(2*dx)\n",
    "    dpsi_dx[-2,:,:] = (psi_tensor[-1,:,:]-psi_tensor[-3,:,:])/(2*dx)\n",
    "    # rest with O(dx**4) centered difference\n",
    "    dpsi_dx[2:-2,:,:] = (-psi_tensor[4:,:,:]+8*psi_tensor[3:-1,:,:]-8*psi_tensor[1:-3,:,:]+psi_tensor[:-4,:,:])/(12*dx)\n",
    "\n",
    "    # DY\n",
    "    # boundaries with simple Euler formula O(dx)\n",
    "    dpsi_dy[:, 0, :] = (psi_tensor[:,1, :]-psi_tensor[:,0, :])/dy\n",
    "    dpsi_dy[:,-1, :] = (psi_tensor[:,-1, :]-psi_tensor[:,-2, :])/dy\n",
    "    # next boundaries with centered difference O(dx**2)\n",
    "    dpsi_dy[:,1,:] = (psi_tensor[:,2,:]-psi_tensor[:,0,:])/(2*dy)\n",
    "    dpsi_dy[:,-2,:] = (psi_tensor[:,-1,:]-psi_tensor[:,-3,:])/(2*dy)\n",
    "    # rest with O(dx**4) centered difference\n",
    "    dpsi_dy[:,2:-2,:] = (-psi_tensor[:,4:,:]+8*psi_tensor[:,3:-1,:]-8*psi_tensor[:,1:-3,:]+psi_tensor[:,:-4,:])/(12*dy)\n",
    "\n",
    "    # DZ\n",
    "    # boundaries with simple Euler formula O(dx)\n",
    "    dpsi_dz[:,:,0] = (psi_tensor[:,:,1]-psi_tensor[:,:,0])/dz\n",
    "    dpsi_dz[:,:,-1] = (psi_tensor[:,:,-1]-psi_tensor[:,:,-2])/dz\n",
    "    # next boundaries with centered difference O(dx**2)\n",
    "    dpsi_dz[:,:,1] = (psi_tensor[:,:,2]-psi_tensor[:,:,0])/(2*dz)\n",
    "    dpsi_dz[:,:,-2] = (psi_tensor[:,:,-1]-psi_tensor[:,:,-3])/(2*dz)\n",
    "    # rest with O(dx**4) centered difference\n",
    "    dpsi_dz[:,:,2:-2] = (-psi_tensor[:,:,4:]+8*psi_tensor[:,:,3:-1]-8*psi_tensor[:,:,1:-3]+psi_tensor[:,:,:-4])/(12*dz)\n",
    "\n",
    "    # px, py, pz\n",
    "    p[:,:,:,0] = hbar*(dpsi_dx/psi_tensor).imag\n",
    "    p[:,:,:,1] = hbar*(dpsi_dy/psi_tensor).imag\n",
    "    p[:,:,:,2] = hbar*(dpsi_dz/psi_tensor).imag      \n",
    "\n",
    "    # TRAJ MOMENTA ##################################################\n",
    "    # if no trajectory surpasses below the node 0 or J-1 at any time, \n",
    "    # traj will always be among (0,J-1) and traj//dxs will be among [0,J-1]\n",
    "    trajs_idxs = (((trajs[:,:3]-xlowers)//dxs).T).astype(cnp.uint) # [3, numTrajs] the closest index from below along each axis\n",
    "    # relative distance to the closest index from below point along each dimension\n",
    "    # the closer, the bigger its weight should be for the trajectory propagation\n",
    "    ratx_down = ((trajs[:,0]-xs[ trajs_idxs[0] ])/(xs[ trajs_idxs[0]+1 ]-xs[ trajs_idxs[0] ]))[:,np.newaxis]\n",
    "    raty_down = ((trajs[:,1]-ys[ trajs_idxs[1] ])/(ys[ trajs_idxs[1]+1 ]-ys[ trajs_idxs[1] ]))[:,np.newaxis]\n",
    "    ratz_down = ((trajs[:,2]-zs[ trajs_idxs[2] ])/(zs[ trajs_idxs[2]+1 ]-zs[ trajs_idxs[2] ]))[:,np.newaxis]\n",
    "    # Get the interpolated momenta\n",
    "    trajs[:, 3:] = ratx_down*raty_down*ratz_down* p[ trajs_idxs[0]+1, trajs_idxs[1]+1, trajs_idxs[2]+1 ] +\\\n",
    "        (1-ratx_down)*raty_down*ratz_down* p[ trajs_idxs[0], trajs_idxs[1]+1, trajs_idxs[2]+1 ] +\\\n",
    "        ratx_down*(1-raty_down)*ratz_down* p[ trajs_idxs[0]+1, trajs_idxs[1], trajs_idxs[2]+1 ] +\\\n",
    "        ratx_down*raty_down*(1-ratz_down)* p[ trajs_idxs[0]+1, trajs_idxs[1]+1, trajs_idxs[2] ] +\\\n",
    "        (1-ratx_down)*(1-raty_down)*ratz_down* p[ trajs_idxs[0], trajs_idxs[1], trajs_idxs[2]+1 ] +\\\n",
    "        ratx_down*(1-raty_down)*(1-ratz_down)* p[ trajs_idxs[0]+1, trajs_idxs[1], trajs_idxs[2] ] +\\\n",
    "        (1-ratx_down)*raty_down*(1-ratz_down)* p[ trajs_idxs[0], trajs_idxs[1]+1, trajs_idxs[2] ] +\\\n",
    "        (1-ratx_down)*(1-raty_down)*(1-ratz_down)* p[ trajs_idxs[0], trajs_idxs[1], trajs_idxs[2] ]\n",
    "    \n",
    "    # OUTPUT #####################################################\n",
    "    if it%outputEvery == 0:\n",
    "        print(f\"\\n > It {it}/{numIts}\")\n",
    "        # compute the magnitude squared of the wavefunction\n",
    "        pdf = (psi_tensor.conj()*psi_tensor).real\n",
    "        # Approximate the norm\n",
    "        print(f\"   Iteration {it} Approx.Norm = {pdf.sum()*dx*dy*dz:.4}\")\n",
    "        \n",
    "        #pdf = cnp.asnumpy(pdf)\n",
    "        #trajs_numpy = cnp.asnumpy(trajs)\n",
    "        trajs_numpy = trajs\n",
    "        \n",
    "        np.save(f\"./OUTPUTS/TISE_3D/{exp_name}/pdf/pdf_it_{it}_numIts_{numIts}_dt_{dt:.3}.npy\",\n",
    "                pdf, allow_pickle=True) #[Nx,Ny,Nz]\n",
    "        np.save(f\"./OUTPUTS/TISE_3D/{exp_name}/trajs/trajs_it_{it}_numIts_{numIts}_dt_{dt:.3}.npy\",\n",
    "                trajs_numpy, allow_pickle=True) #[numTrajs, 6]\n",
    "        np.save(f\"./OUTPUTS/TISE_3D/{exp_name}/moms/momentum_field_it_{it}_numIts_{numIts}_dt_{dt:.3}.npy\",\n",
    "                p, allow_pickle=True) #[Nx,Ny,Nz, 6]\n",
    "        \n",
    "        \n",
    "    # Evolve trajectories using the interpolated velocity field\n",
    "    trajs[:, :3] = trajs[:,:3] + dt*trajs[:,3:]/ms #[numTrajs, 3]\n",
    "    \n",
    "    # Those trajectories that get out of bounds should bounce back by the amount they got out\n",
    "    trajs[:,:3] = cnp.where( trajs[:,:3]>xuppers, xuppers-(trajs[:,:3]-xuppers) ,trajs[:,:3] )\n",
    "    trajs[:,:3] = cnp.where( trajs[:,:3]<xlowers, xlowers+(xlowers-trajs[:,:3]) ,trajs[:,:3] )   \n",
    "    \n",
    "    # NEXT PSI ####################################################\n",
    "    # compute the next time iteration's wavefunction\n",
    "    U_Rpsi_prev = U_R@psi # this is the vector b in Ax=b\n",
    "    psi = UL_LUdec.solve(U_Rpsi_prev)"
   ]
  },
  {
   "cell_type": "markdown",
   "id": "678114e3",
   "metadata": {},
   "source": [
    "Free stuff"
   ]
  },
  {
   "cell_type": "code",
   "execution_count": null,
   "id": "1802f7b0",
   "metadata": {},
   "outputs": [],
   "source": [
    "#cnp.get_default_memory_pool().free_all_blocks()\n",
    "#cnp.get_default_pinned_memory_pool().free_all_blocks()"
   ]
  },
  {
   "cell_type": "markdown",
   "id": "0956360f",
   "metadata": {},
   "source": [
    "### Animation Generation"
   ]
  },
  {
   "cell_type": "markdown",
   "id": "0a7b1296",
   "metadata": {},
   "source": [
    "Generate png"
   ]
  },
  {
   "cell_type": "code",
   "execution_count": null,
   "id": "322278de",
   "metadata": {
    "scrolled": true
   },
   "outputs": [],
   "source": [
    "os.makedirs(f\"./OUTPUTS/TISE_3D/{exp_name}/figs/\", exist_ok=True)\n",
    "image_paths = []\n",
    "dpi = 100\n",
    "\n",
    "every=1 # Only take one data point every this number in each axis to plot\n",
    "grid=np.array(np.meshgrid(*nodes)).swapaxes(1,2)[:,::every, ::every, ::every] #[3,Nx,Ny,Nz]\n",
    "print(f\"Using a mesh in the plot of {grid.shape}\")\n",
    "fig = plt.figure( figsize=(21,7))\n",
    "\n",
    "plt.style.use('dark_background')\n",
    "\n",
    "for it, t in enumerate(ts):\n",
    "    if it%outputEvery==0:\n",
    "        print(f\"\\n > It {it}/{numIts}\")\n",
    "        fig.clf()\n",
    "        pdf = np.load(f\"./OUTPUTS/TISE_3D/{exp_name}/pdf/pdf_it_{it}_numIts_{numIts}_dt_{dt:.3}.npy\")\n",
    "        trajs = np.load(f\"./OUTPUTS/TISE_3D/{exp_name}/trajs/trajs_it_{it}_numIts_{numIts}_dt_{dt:.3}.npy\")\n",
    "        \n",
    "        ax = fig.add_subplot(131, projection='3d')\n",
    "        # PDF TRANSP ############################################################\n",
    "        maxim = pdf.max()\n",
    "        minim = pdf.min()\n",
    "        level_surface = grid[:, pdf>maxim/3]\n",
    "        colormap = ax.scatter(*level_surface, c=pdf[pdf>maxim/3],\n",
    "                cmap='hot_r', s=2, alpha=pdf[pdf>maxim/3]/maxim ) #, antialiased=True)\n",
    "        ax.set_xlim((xlowers[0,0], xuppers[0,1]))\n",
    "        ax.set_ylim((xlowers[0,1], xuppers[0,1]))\n",
    "        ax.set_zlim((xlowers[0,2], xuppers[0,2]))\n",
    "        \n",
    "        fig.colorbar(colormap, fraction=0.04, location='left')\n",
    "        ax.set_xlabel(\"x\")\n",
    "        ax.set_ylabel(\"y\")\n",
    "        ax.set_zlabel(\"z\")\n",
    "        ax.set_title(f\"Probability Density>{maxim/3:.3}\\n it={it} t={t:.4}\")\n",
    "        \n",
    "        # PDF SURFACE LEVELS #####################################################\n",
    "        ax = fig.add_subplot(132, projection='3d')\n",
    "        level_surface = grid[:,pdf>maxim/3]\n",
    "        ax.set_zlim(xlowers[0, -1], xuppers[0,-1])\n",
    "        for k,z in enumerate(zs):\n",
    "            cset = ax.contour(grid[0,:,:,0], grid[1,:,:,0], pdf[:,:,k], \n",
    "                        7, zdir='z', offset=z, cmap='hot_r', vmin=minim, vmax=maxim,\n",
    "                             alpha=pdf[:,:,k].max()/maxim)\n",
    "        ax.set_title(f\"Probability Density\\n it={it} t={t:.4}\")\n",
    "        ax.set_xlabel(\"x\")\n",
    "        ax.set_ylabel(\"y\")\n",
    "        ax.set_zlabel(\"z\")\n",
    "        fig.colorbar(colormap, fraction=0.04, location='bottom', ax=ax)\n",
    "        \n",
    "        # PDF + TRAJECTORIES ##############################################\n",
    "        ax = fig.add_subplot(133, projection='3d')\n",
    "        #colormap = ax.scatter3D(*grid, c=pdf[ ::every, ::every, ::every],\n",
    "        #               cmap='hot_r', s=0.1, alpha=0.4 ) #, antialiased=True)\n",
    "        cset = ax.contour(grid[0,:,:,0], grid[1,:,:,0], pdf.sum(axis=2), 7, zdir='z', offset=xlowers[0,2], cmap='hot_r')\n",
    "        cset = ax.contour(grid[0,:,0,:], pdf.sum(axis=1), grid[2,:,0,:], 7, zdir='y', offset=xuppers[0,1], cmap='hot_r')\n",
    "        cset = ax.contour(pdf.sum(axis=0), grid[1,0,:,:], grid[2,0,:,:], 7, zdir='x', offset=xlowers[0,0], cmap='hot_r')\n",
    "        #fig.colorbar(cset, fraction=0.04, location='left')\n",
    "        ax.set_xlabel(\"x\")\n",
    "        ax.set_ylabel(\"y\")\n",
    "        ax.set_zlabel(\"z\")\n",
    "        ax.set_title(f\"Trajectories and Projected Probability Density Contours\\n it={it} t={t:.4}\")\n",
    "        ax.scatter(trajs[:,0], trajs[:,1], trajs[:,2], c=\"white\", s=3,\n",
    "                    alpha=1)\n",
    "        \n",
    "        image=f\"./OUTPUTS/TISE_3D/{exp_name}/figs/it_{it}.png\"\n",
    "        plt.savefig(image, dpi=dpi)\n",
    "        image_paths.append(image)\n",
    "        #plt.show()\n",
    "        \n"
   ]
  },
  {
   "cell_type": "markdown",
   "id": "cc7b6628",
   "metadata": {},
   "source": [
    "Generate gif"
   ]
  },
  {
   "cell_type": "code",
   "execution_count": null,
   "id": "c083717f",
   "metadata": {},
   "outputs": [],
   "source": [
    "import imageio\n",
    "fps=7\n",
    "images_for_animation = [ imageio.v2.imread(image_path) for image_path in image_paths]\n",
    "imageio.mimsave(f'./OUTPUTS/TISE_3D/{exp_name}/CN_TISE_{exp_name}.gif', images_for_animation, duration=fps**-1*len(images_for_animation))"
   ]
  },
  {
   "cell_type": "markdown",
   "id": "e066a9e9",
   "metadata": {},
   "source": [
    "Erase png"
   ]
  },
  {
   "cell_type": "code",
   "execution_count": null,
   "id": "3e41c792",
   "metadata": {},
   "outputs": [],
   "source": [
    "#for image_path in image_paths:\n",
    "#    os.remove(image_path)"
   ]
  },
  {
   "cell_type": "code",
   "execution_count": 11,
   "id": "9a53d5cc",
   "metadata": {},
   "outputs": [
    {
     "data": {
      "text/plain": [
       "10.416666666666668"
      ]
     },
     "execution_count": 11,
     "metadata": {},
     "output_type": "execute_result"
    }
   ],
   "source": [
    "15e4/60/24/10"
   ]
  },
  {
   "cell_type": "code",
   "execution_count": 8,
   "id": "d13efa56",
   "metadata": {},
   "outputs": [
    {
     "data": {
      "image/png": "[encoded data removed]",
      "text/plain": [
       "<Figure size 640x480 with 1 Axes>"
      ]
     },
     "metadata": {},
     "output_type": "display_data"
    }
   ],
   "source": [
    "import numpy as np\n",
    "import matplotlib.pyplot as plt\n",
    "r = np.linspace(1e-5, 3, 200)\n",
    "a1 = 1/r \n",
    "a2 = 1/r**2\n",
    "a3 = 1/r**3\n",
    "plt.plot(r, a1, label=\"1/r\")\n",
    "plt.plot(r, a2, label=\"1/r**2\")\n",
    "plt.plot(r, a3, label=\"1/r**3\")\n",
    "plt.yscale('log')\n",
    "plt.legend()\n",
    "plt.show()"
   ]
  }
 ],
 "metadata": {
  "kernelspec": {
   "display_name": "Python 3 (ipykernel)",
   "language": "python",
   "name": "python3"
  },
  "language_info": {
   "codemirror_mode": {
    "name": "ipython",
    "version": 3
   },
   "file_extension": ".py",
   "mimetype": "text/x-python",
   "name": "python",
   "nbconvert_exporter": "python",
   "pygments_lexer": "ipython3",
   "version": "3.10.9"
  }
 },
 "nbformat": 4,
 "nbformat_minor": 5
}
