{
 "cells": [
  {
   "cell_type": "code",
   "execution_count": 1,
   "id": "a0bb8612",
   "metadata": {},
   "outputs": [],
   "source": [
    "use_cuda_numpy = False\n",
    "if use_cuda_numpy:\n",
    "    import numpy as np\n",
    "    import matplotlib.pyplot as plt\n",
    "    import cupy as cnp\n",
    "    import cupyx.scipy as csp\n",
    "    import cupyx.scipy.linalg as clg\n",
    "    from time import time\n",
    "    import os\n",
    "    \n",
    "else:\n",
    "    import numpy as cnp\n",
    "    import numpy as np\n",
    "    import matplotlib.pyplot as plt\n",
    "    import scipy as csp\n",
    "    import scipy.sparse.linalg as clg\n",
    "    from time import time\n",
    "    import os"
   ]
  },
  {
   "cell_type": "markdown",
   "id": "c464fcb6",
   "metadata": {},
   "source": [
    "# 2D Time Dependent Schrödinger Equation"
   ]
  },
  {
   "cell_type": "markdown",
   "id": "9fade58c",
   "metadata": {},
   "source": [
    "### Routines"
   ]
  },
  {
   "cell_type": "code",
   "execution_count": 2,
   "id": "e9bbbad4",
   "metadata": {},
   "outputs": [],
   "source": [
    "#Discretized Hamiltonian as a Sparse Matrix\n",
    "def cuda_get_discrete_U_L(Nx, Ny, dx, dy, xs, ys, dt, mx, my, hbar):\n",
    "    main_diagonal = 1+1j*dt*0.5*hbar*(1/dx**2/mx+1/dy**2/my)*cnp.ones(Nx*Ny, dtype=complex_dtype)\n",
    "    for i in range(Nx):\n",
    "        for j in range(Ny):\n",
    "            main_diagonal[j*Nx+i] += 1j*dt*V(xs[i], ys[j])/2/hbar\n",
    "    x_diagonals = -1j*dt*hbar/(4*mx*dx**2)*cnp.ones(Nx*Ny-1, dtype=complex_dtype)\n",
    "    y_diagonals = -1j*dt*hbar/(4*my*dy**2)*cnp.ones(Nx*(Ny-1), dtype=complex_dtype)\n",
    "    # There are some zeros we need to place in these diagonals\n",
    "    for j in range(Ny-1):\n",
    "        x_diagonals[(j+1)*Nx-1] = 0\n",
    "    \n",
    "    return csp.sparse.diags( diagonals=\n",
    "        (main_diagonal, x_diagonals, x_diagonals,y_diagonals, y_diagonals),\n",
    "        offsets=cnp.array([0, 1, -1, Nx, -Nx]), dtype=complex_dtype,format='csc')"
   ]
  },
  {
   "cell_type": "markdown",
   "id": "da32eb1a",
   "metadata": {},
   "source": [
    "### Simulation Parameters"
   ]
  },
  {
   "cell_type": "code",
   "execution_count": 3,
   "id": "3f6801fa",
   "metadata": {},
   "outputs": [
    {
     "name": "stdout",
     "output_type": "stream",
     "text": [
      "> Grid Settings:\n",
      "  Using Nx=350 Ny=350 grid points.\n",
      "  Using dx=0.1289 dy=0.08596 increments\n",
      "\n"
     ]
    }
   ],
   "source": [
    "# name for output directories\n",
    "exp_name = \"triki\"\n",
    "\n",
    "# Complex number precision\n",
    "complex_dtype = cnp.csingle # 64 bit #cnp.cdouble # 128 bit\n",
    "real_dtype = cnp.single # 32 bit # cnp.double # 64 bit\n",
    "\n",
    "# hbar, masses\n",
    "hbar = 1\n",
    "ms = [1,1]\n",
    "\n",
    "# Time increment\n",
    "dt = 0.005\n",
    "\n",
    "# Number of time iterations\n",
    "numIts = 800\n",
    "\n",
    "# Number of points to be used per dimension\n",
    "Ns = [350,350] # (Nx, Ny, Nz)\n",
    "Nx,Ny = Ns\n",
    " \n",
    "# Output every\n",
    "outputEvery = 15\n",
    "\n",
    "# Number of Bohmian Trajectories to Sample and Evolve\n",
    "numTrajs = 1000\n",
    "\n",
    "# Dimensionality of the particles in the 2D configuration space\n",
    "numDofPartic = 2 # aka a single 2D particle\n",
    "numDofUniv = 2\n",
    "\n",
    "# Time grid\n",
    "ts = np.array([dt*j for j in range(numIts)])\n",
    "\n",
    "# Intervals for calculating the wave function\n",
    "xlowers = [-20,-15]\n",
    "xuppers = [25,15]\n",
    "\n",
    "# Increments to be used per dimension\n",
    "dxs = [(xuppers[j]-xlowers[j])/(Ns[j]-1) for j in range(2)] # (dx, dy)\n",
    "dx,dy = dxs\n",
    "\n",
    "#Create coordinates at which the solution will be calculated\n",
    "nodes = [np.linspace(xlowers[j], xuppers[j], Ns[j]) for j in range(2)] # (xs, ys)\n",
    "xs,ys = nodes\n",
    "\n",
    "print(\"> Grid Settings:\")\n",
    "print(f\"  Using Nx={Ns[0]} Ny={Ns[1]} grid points.\")\n",
    "print(f\"  Using dx={dxs[0]:.4} dy={dxs[1]:.4} increments\\n\")"
   ]
  },
  {
   "cell_type": "markdown",
   "id": "3557b93f",
   "metadata": {},
   "source": [
    "Save the Simulation Parameters"
   ]
  },
  {
   "cell_type": "code",
   "execution_count": 4,
   "id": "901e0b7b",
   "metadata": {},
   "outputs": [],
   "source": [
    "# Save the Simulation Parameters\n",
    "os.makedirs(f\"./OUTPUTS/TISE_2D/{exp_name}/\", exist_ok=True)\n",
    "with open(f\"./OUTPUTS/TISE_2D/{exp_name}/Settings.txt\", \"w\") as f:\n",
    "    f.write(f\"numIts {numIts}\\ndt {dt}\\noutputEvery {outputEvery}\\nNs {Ns}\\nxlowers {xlowers}\\nxuppers {xuppers}\\n\")\n",
    "    f.write(f\"numDofUniv {numDofUniv}\\nnumDofPartic {numDofPartic}\\n\")\n",
    "    f.write(f\"numTrajs {numTrajs}\\nhbar {hbar}\\nms {ms}\\nreal_dtype {real_dtype}\\ncomplex_dtype {complex_dtype}\\n\")\n",
    "    try:\n",
    "        f.write(f\"K_coulomb {K_coulomb} \\nqs {qs}\\n\")\n",
    "    except:\n",
    "        f.write(f\"K_coulomb {1} \\nqs {[1,1,1]}\\n\")  "
   ]
  },
  {
   "cell_type": "markdown",
   "id": "381e5462",
   "metadata": {},
   "source": [
    "### Scenario"
   ]
  },
  {
   "cell_type": "code",
   "execution_count": 5,
   "id": "b1c9bc05",
   "metadata": {},
   "outputs": [],
   "source": [
    "def harmonic(grid):\n",
    "    return np.sum(grid**2, -1)\n",
    "\n",
    "def single_slit_2D(grid, Vmax=30, xbottnk=1, adiabty=2, \n",
    "                   wmax=xuppers[1], wmin=1, k_super=6):\n",
    "    '''wmin is half the slit width\n",
    "    - wmax>wmin is expected\n",
    "    - grid supposed to be [Nx,Ny,2]\n",
    "    - default params for xlowers=[0,-L] xuppers=[2*xbottnk, L]\n",
    "    - should place adiabaticity<xbottlneck\n",
    "    '''\n",
    "    wx = wmax-(wmax-wmin)*cnp.exp(-cnp.abs((grid[:,:,0]-xbottnk)/adiabty)**k_super)\n",
    "    return Vmax*(1-cnp.exp(-cnp.abs(grid[:,:,1]/wx)**k_super)) #[Nx,Ny]\n",
    "\n",
    "def double_slit_2D(grid, Vmax=20, k_super=6, \n",
    "                   widthxbar=0.3, xbarrier=1, slitSep=2.5,\n",
    "                  widthSlit=0.7):\n",
    "    '''\n",
    "    widths are half widths\n",
    "    widthSlit should be smaller than half slitSeparation\n",
    "    '''\n",
    "    Vy = 1-cnp.exp(-cnp.abs((grid[:,:,1]-slitSep/2)/widthSlit)**k_super)-\\\n",
    "            cnp.exp(-cnp.abs((grid[:,:,1]+slitSep/2)/widthSlit)**k_super)\n",
    "    return Vmax*cnp.exp(-cnp.abs((grid[:,:,0]-xbarrier)/widthxbar)**k_super)*Vy\n",
    "    \n",
    "def double_slit_and_low_screen_2D(grid,Vscreen=6, R_screen=4.5, wscreen=0.2,\n",
    "                    Vmax=100, k_super=6, \n",
    "                   widthxbar=0.5, xbarrier=0, slitSep=1,\n",
    "                  widthSlit=0.3):\n",
    "    Vscr = Vscreen*cnp.exp(-cnp.abs((cnp.sqrt(grid[:,:,0]**2+grid[:,:,1]**2)-R_screen)/wscreen)**k_super)\n",
    "    Vscr = cnp.where(grid[:,:,0]>xbarrier, Vscr, 0)\n",
    "    Vy = 1-cnp.exp(-cnp.abs((grid[:,:,1]-slitSep/2)/widthSlit)**k_super)-\\\n",
    "            cnp.exp(-cnp.abs((grid[:,:,1]+slitSep/2)/widthSlit)**k_super)\n",
    "    return Vmax*cnp.exp(-cnp.abs((grid[:,:,0]-xbarrier)/widthxbar)**k_super)*Vy+Vscr\n",
    "\n",
    "def harmonic_torous_2D(grid, R_torus=7):\n",
    "    return (cnp.sqrt(grid[:,:,0]**2+grid[:,:,1]**2)-R_torus)**2"
   ]
  },
  {
   "cell_type": "code",
   "execution_count": 6,
   "id": "bdc99893",
   "metadata": {},
   "outputs": [],
   "source": [
    "K_coulomb=1\n",
    "qs = [-1,-1]\n",
    "# Initial Wavefunction\n",
    "def psi0_gaussian(x,y, mus, sigmas, ps, hbar):\n",
    "    return 1/(sigmas[0]*cnp.sqrt(2*cnp.pi))**0.5*cnp.exp(-(x-mus[0])**2/(4*sigmas[0]**2))*\\\n",
    "            1/(sigmas[1]*cnp.sqrt(2*cnp.pi))**0.5*cnp.exp(-(y-mus[1])**2/(4*sigmas[1]**2))*\\\n",
    "                cnp.exp(1j*(ps[0]*x+ps[1]*y)/hbar)\n",
    "\n",
    "# parameters for gaussian\n",
    "mus = [-2,0]\n",
    "sigmas = [1,2]\n",
    "ps = [5,0]\n",
    "\n",
    "# choose the potential and the wavefunction\n",
    "chosenV=double_slit_2D\n",
    "\n",
    "V = lambda x,y: chosenV(np.array([[[x,y]]]))\n",
    "psi0 = lambda x,y: psi0_gaussian(x,y, mus=mus, sigmas=sigmas, ps=ps, hbar=hbar)"
   ]
  },
  {
   "cell_type": "markdown",
   "id": "31fb02de",
   "metadata": {},
   "source": [
    "### Simulation\n",
    "Prepare Arrays"
   ]
  },
  {
   "cell_type": "code",
   "execution_count": 7,
   "id": "1b4111b7",
   "metadata": {},
   "outputs": [],
   "source": [
    "psi = cnp.zeros(Nx*Ny, dtype=complex_dtype)\n",
    "\n",
    "for i in range(Nx):\n",
    "    for j in range(Ny):\n",
    "        psi[j*Nx+i] = psi0(nodes[0][i], nodes[1][j])"
   ]
  },
  {
   "cell_type": "code",
   "execution_count": 8,
   "id": "51c830dc",
   "metadata": {},
   "outputs": [],
   "source": [
    "U_L = cuda_get_discrete_U_L(*Ns, *dxs, *nodes, dt, *ms, hbar)\n",
    "U_R = U_L.conj()\n",
    "UL_LUdec = clg.splu( U_L )"
   ]
  },
  {
   "cell_type": "code",
   "execution_count": 9,
   "id": "2829c137",
   "metadata": {},
   "outputs": [],
   "source": [
    "# initialize Bohmian trajectories\n",
    "# first get the pdf\n",
    "#psi0 = cnp.asnumpy(psi)\n",
    "pdf0 = (psi.conj()*psi).real\n",
    "pdf0 = pdf0/pdf0.sum() # normalize strictly\n",
    "\n",
    "# sample randomly\n",
    "initial_trajs_idx = np.random.choice( pdf0.shape[0], \n",
    "            replace=True, size=(numTrajs), p=pdf0 ) #[numTrajs] indices\n",
    "# need to convert them to positions\n",
    "j_s = initial_trajs_idx//Nx\n",
    "i_s = initial_trajs_idx%Nx\n",
    "\n",
    "# avoiding edges - probability density is zero there\n",
    "i_s[i_s==0] = 1\n",
    "i_s[i_s==Ns[0]-1] = Ns[0]-2\n",
    "j_s[j_s==0] = 1\n",
    "j_s[j_s==Ns[1]-1] = Ns[1]-2\n",
    "\n",
    "trajs = cnp.zeros((numTrajs, 4)) #[numTrajs, 4 -2posit2momt]\n",
    "for tr, (i, j) in enumerate(zip(i_s,j_s)):\n",
    "    trajs[tr, :2] = [nodes[0][i], nodes[1][j]]\n",
    "    \n",
    "dxs = cnp.array(dxs)[cnp.newaxis,:]\n",
    "Ns = cnp.array(Ns)[cnp.newaxis, :]\n",
    "xlowers = cnp.array(xlowers)[cnp.newaxis, :]\n",
    "xuppers = cnp.array(xuppers)[cnp.newaxis, :]\n",
    "ms = cnp.array(ms)[cnp.newaxis, :]"
   ]
  },
  {
   "cell_type": "markdown",
   "id": "3396016d",
   "metadata": {},
   "source": [
    "Visualize chosen potential energy profile and trajectories"
   ]
  },
  {
   "cell_type": "code",
   "execution_count": 10,
   "id": "1b696bd5",
   "metadata": {
    "scrolled": true
   },
   "outputs": [
    {
     "data": {
      "image/png": "[encoded data removed]",
      "text/plain": [
       "<Figure size 500x500 with 2 Axes>"
      ]
     },
     "metadata": {},
     "output_type": "display_data"
    }
   ],
   "source": [
    "every=1 # Only take one data point every this number in each axis to plot potential\n",
    "grid=np.array(np.meshgrid(*nodes)).swapaxes(-2,-1)[:,::every, ::every] #[2,Nx::ev,Ny]\n",
    "potential_field = chosenV(np.moveaxis(grid, 0, -1))\n",
    "\n",
    "fig = plt.figure(figsize=(5,5))\n",
    "ax = fig.add_subplot(111)\n",
    "colormap = ax.imshow(potential_field.T, \n",
    "             extent=[xlowers[0,0], xuppers[0,0], xlowers[0,1], xuppers[0,1]]\n",
    "                     , origin='lower',cmap='hot_r')\n",
    "#plt.axis(aspect='image');\n",
    "ax.scatter(trajs[:,0], trajs[:,1], c=\"black\", s=2,alpha=1)\n",
    "fig.colorbar(colormap, fraction=0.04, location='right')\n",
    "ax.set_xlabel(\"x\")\n",
    "ax.set_ylabel(\"y\")\n",
    "ax.set_title(f\"Potential Energy Field\")\n",
    "#ax.scatter(trajs[:,0], trajs[:,1], c=\"black\", s=2,alpha=1)\n",
    "os.makedirs(f\"./OUTPUTS/TISE_2D/{exp_name}/figs/\", exist_ok=True)\n",
    "image=f\"./OUTPUTS/TISE_2D/{exp_name}/figs/energy_potential.png\"\n",
    "plt.savefig(image, dpi=120, bbox_inches='tight')\n",
    "plt.show()"
   ]
  },
  {
   "cell_type": "markdown",
   "id": "232d3356",
   "metadata": {},
   "source": [
    "Create Directories"
   ]
  },
  {
   "cell_type": "code",
   "execution_count": 11,
   "id": "935ca8c0",
   "metadata": {},
   "outputs": [],
   "source": [
    "os.makedirs(f\"./OUTPUTS/TISE_2D/{exp_name}/pdf/\", exist_ok=True)\n",
    "os.makedirs(f\"./OUTPUTS/TISE_2D/{exp_name}/trajs/\", exist_ok=True)\n",
    "os.makedirs(f\"./OUTPUTS/TISE_2D/{exp_name}/moms/\", exist_ok=True)"
   ]
  },
  {
   "cell_type": "markdown",
   "id": "d529064c",
   "metadata": {},
   "source": [
    "Run Iterations"
   ]
  },
  {
   "cell_type": "code",
   "execution_count": 12,
   "id": "05aefdd8",
   "metadata": {
    "scrolled": true
   },
   "outputs": [
    {
     "name": "stderr",
     "output_type": "stream",
     "text": [
      "/tmp/ipykernel_8111/2688768517.py:32: RuntimeWarning: divide by zero encountered in divide\n",
      "  p[:,:,0] = hbar*(dpsi_dx/psi_tensor).imag\n",
      "/tmp/ipykernel_8111/2688768517.py:32: RuntimeWarning: overflow encountered in divide\n",
      "  p[:,:,0] = hbar*(dpsi_dx/psi_tensor).imag\n",
      "/tmp/ipykernel_8111/2688768517.py:32: RuntimeWarning: invalid value encountered in divide\n",
      "  p[:,:,0] = hbar*(dpsi_dx/psi_tensor).imag\n",
      "/tmp/ipykernel_8111/2688768517.py:33: RuntimeWarning: divide by zero encountered in divide\n",
      "  p[:,:,1] = hbar*(dpsi_dy/psi_tensor).imag\n",
      "/tmp/ipykernel_8111/2688768517.py:33: RuntimeWarning: overflow encountered in divide\n",
      "  p[:,:,1] = hbar*(dpsi_dy/psi_tensor).imag\n",
      "/tmp/ipykernel_8111/2688768517.py:33: RuntimeWarning: invalid value encountered in divide\n",
      "  p[:,:,1] = hbar*(dpsi_dy/psi_tensor).imag\n"
     ]
    },
    {
     "name": "stdout",
     "output_type": "stream",
     "text": [
      "\n",
      " > It 0/800\n",
      "   Iteration 0 Approx.Norm = 1.0\n",
      "\n",
      " > It 15/800\n",
      "   Iteration 15 Approx.Norm = 1.0\n",
      "\n",
      " > It 30/800\n",
      "   Iteration 30 Approx.Norm = 1.0\n",
      "\n",
      " > It 45/800\n",
      "   Iteration 45 Approx.Norm = 1.0\n"
     ]
    },
    {
     "name": "stderr",
     "output_type": "stream",
     "text": [
      "\n",
      "KeyboardInterrupt\n",
      "\n"
     ]
    }
   ],
   "source": [
    "dpsi_dx = cnp.zeros(Ns[0], dtype=complex_dtype)\n",
    "dpsi_dy = cnp.zeros(Ns[0], dtype=complex_dtype)\n",
    "p = cnp.zeros(dpsi_dx.shape+(2, ), dtype=real_dtype) #[ Nx, Ny, 2]\n",
    "\n",
    "for it, t in enumerate(ts):\n",
    "    psi_tensor = psi.reshape(Ns[0,::-1]).swapaxes(0,-1) #[Nx,Ny]\n",
    "    \n",
    "    # BOHMIAN MOMENTUM FIELD #####################################\n",
    "    # first the gradient of the wavefunction at each point\n",
    "    # X\n",
    "    # boundaries with simple Euler formula O(dx)\n",
    "    dpsi_dx[0, :] = (psi_tensor[1, :]-psi_tensor[0, :])/dx\n",
    "    dpsi_dx[-1, :] = (psi_tensor[-1, :]-psi_tensor[-2, :])/dx\n",
    "    # next boundaries with centered difference O(dx**2)\n",
    "    dpsi_dx[1,:] = (psi_tensor[2,:]-psi_tensor[0,:])/(2*dx)\n",
    "    dpsi_dx[-2,:] = (psi_tensor[-1,:]-psi_tensor[-3,:])/(2*dx)\n",
    "    # rest with O(dx**4) centered difference\n",
    "    dpsi_dx[2:-2,:] = (-psi_tensor[4:,:]+8*psi_tensor[3:-1,:]-8*psi_tensor[1:-3,:]+psi_tensor[:-4,:])/(12*dx)\n",
    "\n",
    "    # DY\n",
    "    # boundaries with simple Euler formula O(dx)\n",
    "    dpsi_dy[:, 0] = (psi_tensor[:,1]-psi_tensor[:,0])/dy\n",
    "    dpsi_dy[:,-1] = (psi_tensor[:,-1]-psi_tensor[:,-2])/dy\n",
    "    # next boundaries with centered difference O(dx**2)\n",
    "    dpsi_dy[:,1] = (psi_tensor[:,2]-psi_tensor[:,0])/(2*dy)\n",
    "    dpsi_dy[:,-2] = (psi_tensor[:,-1]-psi_tensor[:,-3])/(2*dy)\n",
    "    # rest with O(dx**4) centered difference\n",
    "    dpsi_dy[:,2:-2] = (-psi_tensor[:,4:]+8*psi_tensor[:,3:-1]-8*psi_tensor[:,1:-3]+psi_tensor[:,:-4])/(12*dy)\n",
    "\n",
    "   \n",
    "    # px, py, pz\n",
    "    p[:,:,0] = hbar*(dpsi_dx/psi_tensor).imag\n",
    "    p[:,:,1] = hbar*(dpsi_dy/psi_tensor).imag\n",
    "\n",
    "    \n",
    "    # MOMENTUM ON TRAJS TRAJS ##################################################\n",
    "    # if no trajectory surpasses below the node 0 or J-1 at any time, \n",
    "    # traj will always be among (0,J-1) and traj//dxs will be among [0,J-1]\n",
    "    trajs_idxs = (((trajs[:,:2]-xlowers)//dxs).T).astype(cnp.uint) # [2, numTrajs] the closest index from below along each axis\n",
    "    # relative distance to the closest index from below point along each dimension\n",
    "    # the closer, the bigger its weight should be for the trajectory propagation\n",
    "    ratx_down = ((trajs[:,0]-xs[ trajs_idxs[0] ])/(xs[ trajs_idxs[0]+1 ]-xs[ trajs_idxs[0] ]))[:,np.newaxis]\n",
    "    raty_down = ((trajs[:,1]-ys[ trajs_idxs[1] ])/(ys[ trajs_idxs[1]+1 ]-ys[ trajs_idxs[1] ]))[:,np.newaxis]\n",
    "    # Interpolate momentum\n",
    "    trajs[:,2:] = ratx_down*raty_down* p[ trajs_idxs[0]+1, trajs_idxs[1]+1 ] +\\\n",
    "        (1-ratx_down)*raty_down* p[ trajs_idxs[0], trajs_idxs[1]+1] +\\\n",
    "        ratx_down*(1-raty_down)* p[ trajs_idxs[0]+1, trajs_idxs[1] ] +\\\n",
    "        (1-ratx_down)*(1-raty_down)* p[ trajs_idxs[0], trajs_idxs[1]]\n",
    "    # Before moving the trajectories, we save the state (with the positions and velocities of this time)\n",
    "    # OUTPUT #####################################################\n",
    "    if it%outputEvery == 0:\n",
    "        print(f\"\\n > It {it}/{numIts}\")\n",
    "        # compute the magnitude squared of the wavefunction\n",
    "        pdf = (psi_tensor.conj()*psi_tensor).real\n",
    "        # Approximate the norm\n",
    "        print(f\"   Iteration {it} Approx.Norm = {pdf.sum()*dx*dy:.4}\")\n",
    "        \n",
    "        #pdf = cnp.asnumpy(pdf)\n",
    "        #trajs_numpy = cnp.asnumpy(trajs)\n",
    "        trajs_numpy = trajs\n",
    "        \n",
    "        np.save(f\"./OUTPUTS/TISE_2D/{exp_name}/pdf/pdf_it_{it}_numIts_{numIts}_dt_{dt:.3}.npy\",\n",
    "                pdf, allow_pickle=True) #[Nx,Ny]\n",
    "        np.save(f\"./OUTPUTS/TISE_2D/{exp_name}/trajs/trajs_it_{it}_numIts_{numIts}_dt_{dt:.3}.npy\",\n",
    "                trajs_numpy, allow_pickle=True) #[numTrajs, 4]\n",
    "        np.save(f\"./OUTPUTS/TISE_2D/{exp_name}/moms/momentum_field_it_{it}_numIts_{numIts}_dt_{dt:.3}.npy\",\n",
    "                p, allow_pickle=True) #[Nx,Ny, 2]    \n",
    "    # NEXT TIME ITERATION POSITIONS ##############################################\n",
    "    # Evolve trajectories using the interpolated momentum field\n",
    "    trajs[:,:2] = trajs[:,:2] + dt*trajs[:,2:]/ms #[numTrajs, 4]\n",
    "    \n",
    "    # Those trajectories that get out of bounds should bounce back by the amount they got out\n",
    "    trajs[:,:2] = cnp.where( trajs[:,:2]>xuppers, xuppers-(trajs[:,:2]-xuppers) ,trajs[:,:2] )\n",
    "    trajs[:,:2] = cnp.where( trajs[:,:2]<xlowers, xlowers+(xlowers-trajs[:,:2]) ,trajs[:,:2] )   \n",
    "            \n",
    "    # NEXT PSI ####################################################\n",
    "    # compute the next time iteration's wavefunction\n",
    "    U_Rpsi_prev = U_R@psi # this is the vector b in Ax=b\n",
    "    psi = UL_LUdec.solve(U_Rpsi_prev)\n"
   ]
  },
  {
   "cell_type": "markdown",
   "id": "678114e3",
   "metadata": {},
   "source": [
    "Free stuff"
   ]
  },
  {
   "cell_type": "code",
   "execution_count": null,
   "id": "1802f7b0",
   "metadata": {},
   "outputs": [],
   "source": [
    "#cnp.get_default_memory_pool().free_all_blocks()\n",
    "#cnp.get_default_pinned_memory_pool().free_all_blocks()"
   ]
  },
  {
   "cell_type": "markdown",
   "id": "0956360f",
   "metadata": {},
   "source": [
    "### Animation Generation"
   ]
  },
  {
   "cell_type": "markdown",
   "id": "0a7b1296",
   "metadata": {},
   "source": [
    "Generate png"
   ]
  },
  {
   "cell_type": "code",
   "execution_count": null,
   "id": "322278de",
   "metadata": {
    "scrolled": true
   },
   "outputs": [],
   "source": [
    "os.makedirs(f\"./OUTPUTS/TISE_2D/{exp_name}/figs/\", exist_ok=True)\n",
    "image_paths = []\n",
    "dpi = 100\n",
    "\n",
    "every=1 # Only take one data point every this number in each axis to plot\n",
    "grid=np.array(np.meshgrid(*nodes)).swapaxes(-2,-1)[:,::every, ::every] #[2,Nx::ev,Ny]\n",
    "print(grid.shape)\n",
    "print(f\"Using a mesh in the plot of {grid.shape}\")\n",
    "traj_cs=np.arange(len(trajs))/len(trajs)\n",
    "fig = plt.figure( figsize=(14,7))\n",
    "\n",
    "for it, t in enumerate(ts):\n",
    "    if it%outputEvery==0:\n",
    "        print(f\"\\n > It {it}/{numIts}\")\n",
    "        fig.clf()\n",
    "        pdf = np.load(f\"./OUTPUTS/TISE_2D/{exp_name}/pdf/pdf_it_{it}_numIts_{numIts}_dt_{dt:.3}.npy\")\n",
    "        trajs = np.load(f\"./OUTPUTS/TISE_2D/{exp_name}/trajs/trajs_it_{it}_numIts_{numIts}_dt_{dt:.3}.npy\")\n",
    "        \n",
    "        ax = fig.add_subplot(121, projection='3d')\n",
    "        maxim = pdf.max()\n",
    "        minim = pdf.min()\n",
    "        # PDF ############################################################\n",
    "        colormap = ax.plot_surface(grid[0], grid[1], pdf, rcount=50, ccount=50,\n",
    "                cmap='RdYlBu')\n",
    "        fig.colorbar(colormap, fraction=0.04, location='left')\n",
    "        ax.set_xlabel(\"x\")\n",
    "        ax.set_ylabel(\"y\")\n",
    "        ax.set_zlabel(\"Probability Density\")\n",
    "        ax.set_title(f\"Probability Density it={it} t={t:.4}\")\n",
    "        cset = ax.contour(grid[0], grid[1], pdf, 7, zdir='x', \n",
    "                          offset=xlowers[0,0], cmap='RdYlBu', vmax=maxim, vmin=minim)\n",
    "        cset = ax.contour(grid[0], grid[1], pdf, 7, zdir='y',\n",
    "                          offset=xuppers[0,1], cmap='RdYlBu', vmax=maxim, vmin=minim)\n",
    "       \n",
    "        # PDF + TRAJECTORIES ##############################################\n",
    "        ax = fig.add_subplot(122)\n",
    "        colormap = ax.imshow(pdf.T, \n",
    "             extent=[xlowers[0,0], xuppers[0,0], xlowers[0,1], xuppers[0,1]]\n",
    "                             , origin='lower',cmap='RdYlBu')\n",
    "        #plt.axis(aspect='image');\n",
    "        fig.colorbar(colormap, fraction=0.04, location='right')\n",
    "        ax.set_xlabel(\"x\")\n",
    "        ax.set_ylabel(\"y\")\n",
    "        ax.set_title(f\"Trajectories and Probability Density\\n it={it} t={t:.4}\")\n",
    "        ax.scatter(trajs[:,0], trajs[:,1], c=\"black\", s=2,alpha=1)\n",
    "        \n",
    "        image=f\"./OUTPUTS/TISE_2D/{exp_name}/figs/it_{it}.png\"\n",
    "        plt.savefig(image, dpi=dpi)\n",
    "        image_paths.append(image)      \n",
    "        \n",
    "        \n"
   ]
  },
  {
   "cell_type": "markdown",
   "id": "e849bc17",
   "metadata": {},
   "source": [
    "Generate gif"
   ]
  },
  {
   "cell_type": "code",
   "execution_count": null,
   "id": "c083717f",
   "metadata": {},
   "outputs": [],
   "source": [
    "import imageio\n",
    "fps=5\n",
    "images_for_animation = [ imageio.v2.imread(image_path) for image_path in image_paths]\n",
    "imageio.mimsave(f'./OUTPUTS/TISE_2D/{exp_name}/CN_TISE_{exp_name}.gif', images_for_animation, duration=fps**-1*len(images_for_animation))"
   ]
  },
  {
   "cell_type": "markdown",
   "id": "e066a9e9",
   "metadata": {},
   "source": [
    "Erase png"
   ]
  },
  {
   "cell_type": "code",
   "execution_count": null,
   "id": "3e41c792",
   "metadata": {},
   "outputs": [],
   "source": [
    "#for image_path in image_paths:\n",
    "#    os.remove(image_path)"
   ]
  }
 ],
 "metadata": {
  "kernelspec": {
   "display_name": "Python 3 (ipykernel)",
   "language": "python",
   "name": "python3"
  },
  "language_info": {
   "codemirror_mode": {
    "name": "ipython",
    "version": 3
   },
   "file_extension": ".py",
   "mimetype": "text/x-python",
   "name": "python",
   "nbconvert_exporter": "python",
   "pygments_lexer": "ipython3",
   "version": "3.10.9"
  }
 },
 "nbformat": 4,
 "nbformat_minor": 5
}
