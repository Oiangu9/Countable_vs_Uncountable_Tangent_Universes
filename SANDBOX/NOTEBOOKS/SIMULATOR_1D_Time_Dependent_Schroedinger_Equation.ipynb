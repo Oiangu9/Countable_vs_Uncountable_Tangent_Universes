{
 "cells": [
  {
   "cell_type": "code",
   "execution_count": 1,
   "id": "a0bb8612",
   "metadata": {},
   "outputs": [],
   "source": [
    "use_cuda_numpy = False\n",
    "if use_cuda_numpy:\n",
    "    import numpy as np\n",
    "    import matplotlib.pyplot as plt\n",
    "    import cupy as cnp\n",
    "    import cupyx.scipy as csp\n",
    "    import cupyx.scipy.sparse.linalg as clg\n",
    "    import cupyx.scipy.sparse as csparse\n",
    "    from time import time\n",
    "    import os\n",
    "    \n",
    "else:\n",
    "    import numpy as cnp\n",
    "    import numpy as np\n",
    "    import matplotlib.pyplot as plt\n",
    "    import scipy as csp\n",
    "    import scipy.sparse.linalg as clg\n",
    "    import scipy.sparse as csparse\n",
    "    from time import time\n",
    "    import os"
   ]
  },
  {
   "cell_type": "markdown",
   "id": "c464fcb6",
   "metadata": {},
   "source": [
    "# 1D Time Dependent Schrödinger Equation"
   ]
  },
  {
   "cell_type": "markdown",
   "id": "9fade58c",
   "metadata": {},
   "source": [
    "### Routines"
   ]
  },
  {
   "cell_type": "code",
   "execution_count": 2,
   "id": "e9bbbad4",
   "metadata": {},
   "outputs": [],
   "source": [
    "#Discretized Hamiltonian as a Sparse Matrix\n",
    "def cuda_get_discrete_U_L(Nx, dx, dt, mx, hbar):\n",
    "    # it is faster to prepare the diagonals with cpu and then transfer them to gpu\n",
    "    # since the implementation is very sequential as it is\n",
    "    # all arguments expected to be in cpu\n",
    "    # but returned sparse matrix is in gpu\n",
    "    main_diagonal = 1+1j*dt*0.5*hbar*(1/dx**2/mx)*cnp.ones(Nx, dtype=complex_dtype)\n",
    "    for i in range(Nx):\n",
    "        main_diagonal[i] += 1j*dt*V_i[i]/2/hbar\n",
    "    x_diagonals = -1j*dt*hbar/(4*mx*dx**2)*cnp.ones(Nx-1, dtype=complex_dtype)   \n",
    "    return csp.sparse.diags( diagonals=\n",
    "        (main_diagonal, x_diagonals, x_diagonals,),\n",
    "        offsets=np.array([0, 1, -1]), dtype=complex_dtype,format='csc')"
   ]
  },
  {
   "cell_type": "markdown",
   "id": "da32eb1a",
   "metadata": {},
   "source": [
    "### Simulation Parameters"
   ]
  },
  {
   "cell_type": "code",
   "execution_count": 3,
   "id": "3f6801fa",
   "metadata": {},
   "outputs": [
    {
     "name": "stdout",
     "output_type": "stream",
     "text": [
      "> Grid Settings:\n",
      "  Using Nx=1000 grid points.\n",
      "  Using dx=0.03403 increments\n",
      "\n"
     ]
    }
   ],
   "source": [
    "# name for output directories\n",
    "exp_name = \"barriers\"\n",
    "\n",
    "# Complex number precision\n",
    "complex_dtype = cnp.csingle # 64 bit #cnp.cdouble # 128 bit\n",
    "real_dtype = cnp.single # 32 bit # cnp.double # 64 bit\n",
    "\n",
    "# hbar, masses\n",
    "hbar = 1\n",
    "ms = [1]\n",
    "\n",
    "# Time increment\n",
    "dt = 0.006\n",
    "\n",
    "# Number of time iterations\n",
    "numIts = 801\n",
    "\n",
    "# Number of points to be used per dimension\n",
    "Ns = [1000] # (Nx, Ny, Nz)\n",
    "Nx = Ns\n",
    " \n",
    "# Output every\n",
    "outputEvery = 100\n",
    "\n",
    "# Number of Bohmian Trajectories to Sample and Evolve\n",
    "numTrajs = 3000\n",
    "\n",
    "# Dimensionality of the particles in the 2D configuration space\n",
    "numDofPartic = 1 # aka a single 1D particle\n",
    "numDofUniv = 1\n",
    "\n",
    "# Time grid\n",
    "ts = np.array([dt*j for j in range(numIts)])\n",
    "\n",
    "# Intervals for calculating the wave function\n",
    "xlowers = [-17]\n",
    "xuppers = [17]\n",
    "\n",
    "# Increments to be used per dimension\n",
    "dxs = [(xuppers[j]-xlowers[j])/(Ns[j]-1) for j in range(1)] # (dx, dy)\n",
    "dx = dxs[0]\n",
    "\n",
    "#Create coordinates at which the solution will be calculated\n",
    "nodes = [cnp.linspace(xlowers[j], xuppers[j], Ns[j]) for j in range(1)] # (xs, ys)\n",
    "xs = nodes[0]\n",
    "\n",
    "print(\"> Grid Settings:\")\n",
    "print(f\"  Using Nx={Ns[0]} grid points.\")\n",
    "print(f\"  Using dx={dxs[0]:.4} increments\\n\")"
   ]
  },
  {
   "cell_type": "markdown",
   "id": "3557b93f",
   "metadata": {},
   "source": [
    "Save the Simulation Parameters"
   ]
  },
  {
   "cell_type": "code",
   "execution_count": 4,
   "id": "901e0b7b",
   "metadata": {},
   "outputs": [],
   "source": [
    "# Save the Simulation Parameters\n",
    "os.makedirs(f\"./OUTPUTS/TISE_{numDofUniv}D/{exp_name}/\", exist_ok=True)\n",
    "with open(f\"./OUTPUTS/TISE_{numDofUniv}D/{exp_name}/Settings.txt\", \"w\") as f:\n",
    "    f.write(f\"numIts {numIts}\\ndt {dt}\\noutputEvery {outputEvery}\\nNs {Ns}\\nxlowers {xlowers}\\nxuppers {xuppers}\\n\")\n",
    "    f.write(f\"numDofUniv {numDofUniv}\\nnumDofPartic {numDofPartic}\\n\")\n",
    "    f.write(f\"numTrajs {numTrajs}\\nhbar {hbar}\\nms {ms}\\nreal_dtype {real_dtype}\\ncomplex_dtype {complex_dtype}\\n\")\n",
    "    try:\n",
    "        f.write(f\"K_coulomb {K_coulomb} \\nqs {qs}\\n\")\n",
    "    except:\n",
    "        f.write(f\"K_coulomb {1} \\nqs {[1,1,1]}\\n\")  "
   ]
  },
  {
   "cell_type": "markdown",
   "id": "381e5462",
   "metadata": {},
   "source": [
    "### Scenario"
   ]
  },
  {
   "cell_type": "code",
   "execution_count": 5,
   "id": "b1c9bc05",
   "metadata": {},
   "outputs": [],
   "source": [
    "def harmonic(grid):\n",
    "    return 0.5*cnp.sum(grid**2, -1)\n",
    "\n",
    "def double_barriers(grid, Vmax1=1.5, Vmax2=0, xbarrier1=2, xbarrier2=6,\n",
    "                    width1=0.7, width2=0.7, k_super=6):\n",
    "    return Vmax1*cnp.exp(-cnp.abs((grid[:,0]-xbarrier1)/width1)**k_super)+\\\n",
    "                Vmax2*cnp.exp(-cnp.abs((grid[:,0]-xbarrier2)/width2)**k_super)\n",
    "def no(grid, real_dtype=real_dtype):\n",
    "    return cnp.zeros(grid.shape[:-1], dtype=real_dtype)"
   ]
  },
  {
   "cell_type": "code",
   "execution_count": 6,
   "id": "bdc99893",
   "metadata": {},
   "outputs": [],
   "source": [
    "K_coulomb=1\n",
    "qs = [-1,-1]\n",
    "# Initial Wavefunction\n",
    "def psi0_gaussian(grid, mus, sigmas, ps, hbar):\n",
    "    # grid is [Nx,Ny, 2]\n",
    "    return np.prod(1/(sigmas*np.sqrt(2*np.pi))**0.5*cnp.exp(-(grid-mus)**2/(4*sigmas**2))*cnp.exp(1j*(ps*grid)/hbar), axis=-1, dtype=complex_dtype)\n",
    "\n",
    "def psi0_Ngaussians(grid, muss, sigmass, pss, hbar, complex_dtype):\n",
    "    psi = cnp.zeros(grid.shape[:-1], dtype=complex_dtype)\n",
    "    for mus, sigmas, ps in zip(muss, sigmass, pss):\n",
    "        psi+=np.prod(1/(sigmas*np.sqrt(2*np.pi))**0.5*cnp.exp(-(grid-mus)**2/(4*sigmas**2))*cnp.exp(1j*(ps*grid)/hbar), axis=-1, dtype=complex_dtype)\n",
    "    return psi/np.sqrt(len(muss))\n",
    "\n",
    "# parameters for gaussian\n",
    "mus = cnp.array([-4])\n",
    "sigmas = cnp.array([1/np.sqrt(2)])\n",
    "ps = cnp.array([1.0])\n",
    "\n",
    "# parameters for 2 gaussians\n",
    "muss = cnp.array([[-2.7], [2.7]]) \n",
    "sigmass = cnp.array([[1/np.sqrt(2)],[1/np.sqrt(2)]])\n",
    "#pss = cnp.array([[0,1.5],[0,1.5]])\n",
    "pss = cnp.array([[1],[-1]])\n",
    "\n",
    "\n",
    "# choose the potential and the wavefunction\n",
    "chosenV=no\n",
    "\n",
    "# the grid for the potential plot and to allow a speed up using cuda\n",
    "grid=cnp.array(cnp.meshgrid(*nodes)).T #[Nx, 1]\n",
    "V_i = chosenV(grid)\n",
    "\n",
    "#psi0 = lambda grid: psi0_gaussian(grid, mus=mus, sigmas=sigmas, ps=ps, hbar=hbar)\n",
    "psi0 = lambda grid: psi0_Ngaussians(grid, muss=muss, sigmass = sigmass, pss = pss, hbar=hbar,complex_dtype=complex_dtype)"
   ]
  },
  {
   "cell_type": "markdown",
   "id": "31fb02de",
   "metadata": {},
   "source": [
    "### Simulation\n",
    "Prepare Arrays"
   ]
  },
  {
   "cell_type": "code",
   "execution_count": 7,
   "id": "1b4111b7",
   "metadata": {},
   "outputs": [],
   "source": [
    "psi = psi0(grid).flatten('F')"
   ]
  },
  {
   "cell_type": "code",
   "execution_count": 8,
   "id": "51c830dc",
   "metadata": {},
   "outputs": [],
   "source": [
    "U_L = cuda_get_discrete_U_L(*Ns, *dxs, dt, *ms, hbar)\n",
    "U_R = U_L.conj()\n",
    "UL_LUdec = clg.splu( U_L )"
   ]
  },
  {
   "cell_type": "code",
   "execution_count": 9,
   "id": "2829c137",
   "metadata": {},
   "outputs": [],
   "source": [
    "# initialize Bohmian trajectories\n",
    "# first get the pdf\n",
    "#psi0 = cnp.asnumpy(psi)\n",
    "pdf0 = (psi.conj()*psi).real\n",
    "pdf0 = pdf0/pdf0.sum() # normalize strictly\n",
    "\n",
    "# sample randomly\n",
    "i_s = cnp.random.choice( pdf0.shape[0], \n",
    "            replace=True, size=(numTrajs), p=pdf0 ) #[numTrajs] indices\n",
    "\n",
    "# avoiding edges - probability density is zero there\n",
    "i_s[i_s==0] = 1\n",
    "i_s[i_s==Ns[0]-1] = Ns[0]-2\n",
    "\n",
    "trajs = cnp.zeros((numTrajs, 2*numDofUniv)) #[numTrajs, 2 1posit1momt]\n",
    "for tr, i in enumerate(i_s):\n",
    "    trajs[tr, 0] = nodes[0][i]\n",
    "    \n",
    "cdxs = cnp.array(dxs)[cnp.newaxis,:]\n",
    "cNs = cnp.array(Ns)[cnp.newaxis, :]\n",
    "cxlowers = cnp.array(xlowers)[cnp.newaxis, :]\n",
    "cxuppers = cnp.array(xuppers)[cnp.newaxis, :]\n",
    "cms = cnp.array(ms)[cnp.newaxis, :]"
   ]
  },
  {
   "cell_type": "markdown",
   "id": "3396016d",
   "metadata": {},
   "source": [
    "Visualize chosen potential energy profile and trajectories"
   ]
  },
  {
   "cell_type": "code",
   "execution_count": 10,
   "id": "1b696bd5",
   "metadata": {
    "scrolled": false
   },
   "outputs": [
    {
     "data": {
      "image/png": "[encoded data removed]",
      "text/plain": [
       "<Figure size 1000x500 with 1 Axes>"
      ]
     },
     "metadata": {},
     "output_type": "display_data"
    }
   ],
   "source": [
    "fig = plt.figure(figsize=(10,5))\n",
    "ax = fig.add_subplot(111)\n",
    "if use_cuda_numpy:\n",
    "    V_i=cnp.asnumpy(V_i)\n",
    "    trajs_numpy = cnp.asnumpy(trajs)\n",
    "else:\n",
    "    trajs_numpy = trajs\n",
    "\n",
    "ax.plot(xs, V_i, label=\"Potential Energy\", color=u'#ff7f0e')\n",
    "ax.plot(trajs_numpy[:,0], [np.mean(V_i)]*len(trajs_numpy),'o',\n",
    "        c=\"black\", markersize=1, label=\"Initial Trajectories\")\n",
    "ax.set_xlabel(\"x\")\n",
    "ax.set_ylabel(\"y\")\n",
    "ax.set_title(f\"Potential Energy Field\\nand Initial Trajectories\")\n",
    "#ax.scatter(trajs[:,0], trajs[:,1], c=\"black\", s=2,alpha=1)\n",
    "os.makedirs(f\"./OUTPUTS/TISE_1D/{exp_name}/figs/\", exist_ok=True)\n",
    "image=f\"./OUTPUTS/TISE_1D/{exp_name}/figs/energy_potential.png\"\n",
    "plt.legend()\n",
    "plt.savefig(image, dpi=120, bbox_inches='tight')\n",
    "plt.show()"
   ]
  },
  {
   "cell_type": "markdown",
   "id": "232d3356",
   "metadata": {},
   "source": [
    "Create Directories"
   ]
  },
  {
   "cell_type": "code",
   "execution_count": 11,
   "id": "935ca8c0",
   "metadata": {},
   "outputs": [],
   "source": [
    "os.makedirs(f\"./OUTPUTS/TISE_1D/{exp_name}/pdf/\", exist_ok=True)\n",
    "os.makedirs(f\"./OUTPUTS/TISE_1D/{exp_name}/trajs/\", exist_ok=True)\n",
    "os.makedirs(f\"./OUTPUTS/TISE_1D/{exp_name}/moms/\", exist_ok=True)"
   ]
  },
  {
   "cell_type": "markdown",
   "id": "d529064c",
   "metadata": {},
   "source": [
    "Run Iterations"
   ]
  },
  {
   "cell_type": "code",
   "execution_count": 12,
   "id": "05aefdd8",
   "metadata": {
    "scrolled": true
   },
   "outputs": [
    {
     "name": "stderr",
     "output_type": "stream",
     "text": [
      "/tmp/ipykernel_12017/2851211733.py:18: RuntimeWarning: overflow encountered in divide\n",
      "  p[:,0] = hbar*(dpsi_dx/psi).imag\n",
      "/tmp/ipykernel_12017/2851211733.py:18: RuntimeWarning: divide by zero encountered in divide\n",
      "  p[:,0] = hbar*(dpsi_dx/psi).imag\n",
      "/tmp/ipykernel_12017/2851211733.py:18: RuntimeWarning: invalid value encountered in divide\n",
      "  p[:,0] = hbar*(dpsi_dx/psi).imag\n"
     ]
    },
    {
     "name": "stdout",
     "output_type": "stream",
     "text": [
      "\n",
      " > It 0/801\n",
      "   Iteration 0 Approx.Norm = 1.0\n",
      "\n",
      " > It 100/801\n",
      "   Iteration 100 Approx.Norm = 1.0\n",
      "\n",
      " > It 200/801\n",
      "   Iteration 200 Approx.Norm = 1.0\n",
      "\n",
      " > It 300/801\n",
      "   Iteration 300 Approx.Norm = 1.0\n",
      "\n",
      " > It 400/801\n",
      "   Iteration 400 Approx.Norm = 1.0\n",
      "\n",
      " > It 500/801\n",
      "   Iteration 500 Approx.Norm = 1.0\n",
      "\n",
      " > It 600/801\n",
      "   Iteration 600 Approx.Norm = 1.0\n",
      "\n",
      " > It 700/801\n",
      "   Iteration 700 Approx.Norm = 1.0\n",
      "\n",
      " > It 800/801\n",
      "   Iteration 800 Approx.Norm = 1.0\n"
     ]
    }
   ],
   "source": [
    "dpsi_dx = cnp.zeros(Ns, dtype=complex_dtype)\n",
    "p = cnp.zeros(dpsi_dx.shape+(1, ), dtype=real_dtype) #[ Nx, 1]\n",
    "\n",
    "for it, t in enumerate(ts):    \n",
    "    # BOHMIAN MOMENTUM FIELD #####################################\n",
    "    # first the gradient of the wavefunction at each point\n",
    "    # X\n",
    "    # boundaries with simple Euler formula O(dx)\n",
    "    dpsi_dx[0] = (psi[1]-psi[0])/dx\n",
    "    dpsi_dx[-1] = (psi[-1]-psi[-2])/dx\n",
    "    # next boundaries with centered difference O(dx**2)\n",
    "    dpsi_dx[1] = (psi[2]-psi[0])/(2*dx)\n",
    "    dpsi_dx[-2] = (psi[-1]-psi[-3])/(2*dx)\n",
    "    # rest with O(dx**4) centered difference\n",
    "    dpsi_dx[2:-2] = (-psi[4:]+8*psi[3:-1]-8*psi[1:-3]+psi[:-4])/(12*dx)\n",
    "\n",
    "    # px, py, pz\n",
    "    p[:,0] = hbar*(dpsi_dx/psi).imag\n",
    "    \n",
    "    # MOMENTUM ON TRAJS ##################################################\n",
    "    # if no trajectory surpasses below the node 0 or J-1 at any time, \n",
    "    # traj will always be among (0,J-1) and traj//dxs will be among [0,J-1]\n",
    "    trajs_idxs = (((trajs[:,:numDofUniv]-cxlowers)//cdxs).T).astype(cnp.uint) # [1, numTrajs] the closest index from below along each axis\n",
    "    # relative distance to the closest index from below point along each dimension\n",
    "    # the closer, the bigger its weight should be for the trajectory propagation\n",
    "    ratx_down = ((trajs[:,0]-xs[ trajs_idxs[0] ])/(xs[ trajs_idxs[0]+1 ]-xs[ trajs_idxs[0] ]))[:,cnp.newaxis]\n",
    "    # Interpolate momentum\n",
    "    trajs[:,numDofUniv:] = ratx_down* p[ trajs_idxs[0]+1 ] +\\\n",
    "        (1-ratx_down)* p[ trajs_idxs[0], ] \n",
    "    \n",
    "    # Before moving the trajectories, we save the state (with the positions and velocities of this time)\n",
    "    # OUTPUT #####################################################\n",
    "    if it%outputEvery == 0:\n",
    "        print(f\"\\n > It {it}/{numIts}\")\n",
    "        # compute the magnitude squared of the wavefunction\n",
    "        pdf = (psi.conj()*psi).real\n",
    "        # Approximate the norm\n",
    "        print(f\"   Iteration {it} Approx.Norm = {pdf.sum()*dx:.4}\")\n",
    "        if use_cuda_numpy:\n",
    "            pdf = cnp.asnumpy(pdf)\n",
    "            trajs_numpy = cnp.asnumpy(trajs)\n",
    "            p_numpy = cnp.asnumpy(p)\n",
    "        else:\n",
    "            trajs_numpy = trajs\n",
    "            p_numpy = p\n",
    "        np.save(f\"./OUTPUTS/TISE_1D/{exp_name}/pdf/pdf_it_{it}_numIts_{numIts}_dt_{dt:.3}.npy\",\n",
    "                pdf, allow_pickle=True) #[Nx]\n",
    "        np.save(f\"./OUTPUTS/TISE_1D/{exp_name}/trajs/trajs_it_{it}_numIts_{numIts}_dt_{dt:.3}.npy\",\n",
    "                trajs_numpy, allow_pickle=True) #[numTrajs, 2]\n",
    "        np.save(f\"./OUTPUTS/TISE_1D/{exp_name}/moms/momentum_field_it_{it}_numIts_{numIts}_dt_{dt:.3}.npy\",\n",
    "                p_numpy, allow_pickle=True) #[Nx, 1]    \n",
    "    # NEXT TIME ITERATION POSITIONS ##############################################\n",
    "    # Evolve trajectories using the interpolated momentum field\n",
    "    trajs[:,:numDofUniv] = trajs[:,:numDofUniv] + dt*trajs[:,numDofUniv:]/cms #[numTrajs, 4]\n",
    "    \n",
    "    # Those trajectories that get out of bounds should bounce back by the amount they got out\n",
    "    patience = 2 # max three bounces allowed\n",
    "    # Those trajectories that get out of bounds should bounce back by the amount they got out\n",
    "    while(cnp.any(trajs[:,:numDofUniv]>=cxuppers) or cnp.any(trajs[:,:numDofUniv]<cxlowers)):\n",
    "        trajs[:,:numDofUniv] = cnp.where( trajs[:,:numDofUniv]>=cxuppers, cxuppers-(trajs[:,:numDofUniv]-cxuppers)-1e-10 ,trajs[:,:numDofUniv] )\n",
    "        trajs[:,:numDofUniv] = cnp.where( trajs[:,:numDofUniv]<cxlowers, cxlowers+(cxlowers-trajs[:,:numDofUniv]) ,trajs[:,:numDofUniv] )\n",
    "        patience-=1\n",
    "        if patience==0:\n",
    "            trajs[:,:numDofUniv] = cnp.where( trajs[:,:numDofUniv]>=cxuppers, cxuppers-1e-10,trajs[:,:numDofUniv] )\n",
    "            trajs[:,:numDofUniv] = cnp.where( trajs[:,:numDofUniv]< cxlowers, cxlowers,trajs[:,:numDofUniv] )\n",
    "            break      \n",
    "    # NEXT PSI ####################################################\n",
    "    # compute the next time iteration's wavefunction\n",
    "    U_Rpsi_prev = U_R@psi # this is the vector b in Ax=b\n",
    "    psi = UL_LUdec.solve(U_Rpsi_prev)\n"
   ]
  },
  {
   "cell_type": "markdown",
   "id": "678114e3",
   "metadata": {},
   "source": [
    "Free stuff"
   ]
  },
  {
   "cell_type": "code",
   "execution_count": 13,
   "id": "1802f7b0",
   "metadata": {},
   "outputs": [],
   "source": [
    "if use_cuda_numpy:\n",
    "    cnp.get_default_memory_pool().free_all_blocks()\n",
    "    cnp.get_default_pinned_memory_pool().free_all_blocks()"
   ]
  },
  {
   "cell_type": "markdown",
   "id": "0956360f",
   "metadata": {},
   "source": [
    "### Animation Generation"
   ]
  },
  {
   "cell_type": "markdown",
   "id": "0a7b1296",
   "metadata": {},
   "source": [
    "Generate png"
   ]
  },
  {
   "cell_type": "code",
   "execution_count": 14,
   "id": "60b723b0",
   "metadata": {},
   "outputs": [],
   "source": [
    "if use_cuda_numpy:\n",
    "    nodes = [cnp.asnumpy(nodel) for nodel in nodes]"
   ]
  },
  {
   "cell_type": "code",
   "execution_count": 15,
   "id": "322278de",
   "metadata": {
    "scrolled": false
   },
   "outputs": [
    {
     "name": "stdout",
     "output_type": "stream",
     "text": [
      "\n",
      " > It 0/801\n",
      "\n",
      " > It 100/801\n",
      "\n",
      " > It 200/801\n",
      "\n",
      " > It 300/801\n",
      "\n",
      " > It 400/801\n",
      "\n",
      " > It 500/801\n",
      "\n",
      " > It 600/801\n",
      "\n",
      " > It 700/801\n",
      "\n",
      " > It 800/801\n"
     ]
    },
    {
     "data": {
      "image/png": "[encoded data removed]",
      "text/plain": [
       "<Figure size 1400x700 with 2 Axes>"
      ]
     },
     "metadata": {},
     "output_type": "display_data"
    }
   ],
   "source": [
    "os.makedirs(f\"./OUTPUTS/TISE_1D/{exp_name}/figs/\", exist_ok=True)\n",
    "image_paths = []\n",
    "dpi = 100\n",
    "fig = plt.figure( figsize=(14,7))\n",
    "\n",
    "for it, t in enumerate(ts):\n",
    "    if it%outputEvery==0:\n",
    "        print(f\"\\n > It {it}/{numIts}\")\n",
    "        \n",
    "        fig.clf()\n",
    "        pdf = np.load(f\"./OUTPUTS/TISE_1D/{exp_name}/pdf/pdf_it_{it}_numIts_{numIts}_dt_{dt:.3}.npy\")\n",
    "        trajs = np.load(f\"./OUTPUTS/TISE_1D/{exp_name}/trajs/trajs_it_{it}_numIts_{numIts}_dt_{dt:.3}.npy\")\n",
    "    \n",
    "        # PDF + POTENTIAL + TRAJECTORIES ##############################################\n",
    "        ax = fig.add_subplot(111)\n",
    "        ax.plot(xs, pdf, label=\"Probablity Density\")\n",
    "        ax.set_xlabel(\"x\")\n",
    "        ax.set_ylabel(\"pdf\")\n",
    "        ax.set_title(f\"Trajectories and Probability Density\\n it={it} t={t:.4}\")\n",
    "        plt.legend()\n",
    "        ax2=ax.twinx()\n",
    "        ax2.plot(xs, V_i, label=\"Potential\", color=u'#ff7f0e')        \n",
    "        ax2.plot(trajs[:,0], [np.mean(V_i)]*numTrajs, 'o',color='black',\n",
    "                markersize=1,label=\"Bohmian Trajectories\")\n",
    "        ax2.set_ylabel(\"Potential\")\n",
    "        image=f\"./OUTPUTS/TISE_1D/{exp_name}/figs/it_{it}.png\"\n",
    "        plt.legend()\n",
    "        plt.savefig(image, dpi=dpi)\n",
    "        image_paths.append(image)      "
   ]
  },
  {
   "cell_type": "markdown",
   "id": "e849bc17",
   "metadata": {},
   "source": [
    "Generate gif"
   ]
  },
  {
   "cell_type": "code",
   "execution_count": 16,
   "id": "c083717f",
   "metadata": {},
   "outputs": [],
   "source": [
    "import imageio\n",
    "fps=5\n",
    "images_for_animation = [ imageio.v2.imread(image_path) for image_path in image_paths]\n",
    "imageio.mimsave(f'./OUTPUTS/TISE_1D/{exp_name}/CN_TISE_{exp_name}.gif', images_for_animation, duration=fps**-1*len(images_for_animation))"
   ]
  },
  {
   "cell_type": "markdown",
   "id": "e066a9e9",
   "metadata": {},
   "source": [
    "Erase png"
   ]
  },
  {
   "cell_type": "code",
   "execution_count": 17,
   "id": "3e41c792",
   "metadata": {},
   "outputs": [],
   "source": [
    "#for image_path in image_paths:\n",
    "#    os.remove(image_path)"
   ]
  }
 ],
 "metadata": {
  "kernelspec": {
   "display_name": "Python 3 (ipykernel)",
   "language": "python",
   "name": "python3"
  },
  "language_info": {
   "codemirror_mode": {
    "name": "ipython",
    "version": 3
   },
   "file_extension": ".py",
   "mimetype": "text/x-python",
   "name": "python",
   "nbconvert_exporter": "python",
   "pygments_lexer": "ipython3",
   "version": "3.10.9"
  }
 },
 "nbformat": 4,
 "nbformat_minor": 5
}
